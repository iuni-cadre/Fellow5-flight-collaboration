{
 "cells": [
  {
   "cell_type": "code",
   "execution_count": 1,
   "metadata": {},
   "outputs": [
    {
     "data": {
      "text/plain": [
       "Waiting for a Spark session to start..."
      ]
     },
     "metadata": {},
     "output_type": "display_data",
     "source": "user"
    },
    {
     "data": {
      "text/plain": [
       "sqlContext = org.apache.spark.sql.SQLContext@14307d03\n"
      ]
     },
     "metadata": {},
     "output_type": "display_data",
     "source": "user"
    },
    {
     "data": {
      "text/plain": [
       "warning: there was one deprecation warning; re-run with -deprecation for details\n"
      ]
     },
     "metadata": {},
     "output_type": "display_data",
     "source": "user"
    },
    {
     "data": {
      "text/plain": [
       "Some(http://iuni2:4040)"
      ]
     },
     "execution_count": 1,
     "metadata": {},
     "output_type": "execute_result"
    }
   ],
   "source": [
    "import org.apache.spark.sql.SQLContext\n",
    "import org.apache.spark.sql.types.{StructType, StructField, StringType, DoubleType};\n",
    "import com.databricks.spark.xml._\n",
    "\n",
    "val sqlContext = new SQLContext(sc)\n",
    "import sqlContext.implicits._\n",
    "sqlContext.sql(\"set spark.sql.caseSensitive=true\") \n",
    "spark.sparkContext.uiWebUrl\n",
    "//spark.sparkContext.version"
   ]
  },
  {
   "cell_type": "code",
   "execution_count": 2,
   "metadata": {
    "scrolled": true
   },
   "outputs": [
    {
     "name": "stdout",
     "output_type": "stream",
     "text": [
      "root\n",
      " |-- UID: string (nullable = true)\n",
      " |-- identifier: array (nullable = true)\n",
      " |    |-- element: struct (containsNull = true)\n",
      " |    |    |-- _VALUE: string (nullable = true)\n",
      " |    |    |-- _type: string (nullable = true)\n",
      " |    |    |-- _value: string (nullable = true)\n",
      " |-- doctype: array (nullable = true)\n",
      " |    |-- element: string (containsNull = true)\n",
      " |-- name: array (nullable = true)\n",
      " |    |-- element: struct (containsNull = true)\n",
      " |    |    |-- _addr_no: string (nullable = true)\n",
      " |    |    |-- _orcid_id_tr: string (nullable = true)\n",
      " |    |    |-- _r_id_tr: string (nullable = true)\n",
      " |    |    |-- _reprint: string (nullable = true)\n",
      " |    |    |-- _role: string (nullable = true)\n",
      " |    |    |-- _seq_no: long (nullable = true)\n",
      " |    |    |-- display_name: string (nullable = true)\n",
      " |    |    |-- email_addr: string (nullable = true)\n",
      " |    |    |-- first_name: string (nullable = true)\n",
      " |    |    |-- full_name: string (nullable = true)\n",
      " |    |    |-- last_name: string (nullable = true)\n",
      " |    |    |-- suffix: string (nullable = true)\n",
      " |    |    |-- wos_standard: string (nullable = true)\n",
      " |-- titles: struct (nullable = true)\n",
      " |    |-- _count: long (nullable = true)\n",
      " |    |-- title: array (nullable = true)\n",
      " |    |    |-- element: struct (containsNull = true)\n",
      " |    |    |    |-- _VALUE: string (nullable = true)\n",
      " |    |    |    |-- _translated: string (nullable = true)\n",
      " |    |    |    |-- _type: string (nullable = true)\n",
      " |-- conference: array (nullable = true)\n",
      " |    |-- element: struct (containsNull = true)\n",
      " |    |    |-- _conf_id: long (nullable = true)\n",
      " |    |    |-- conf_dates: struct (nullable = true)\n",
      " |    |    |    |-- _count: long (nullable = true)\n",
      " |    |    |    |-- conf_date: struct (nullable = true)\n",
      " |    |    |    |    |-- _VALUE: string (nullable = true)\n",
      " |    |    |    |    |-- _conf_end: string (nullable = true)\n",
      " |    |    |    |    |-- _conf_start: string (nullable = true)\n",
      " |    |    |-- conf_infos: struct (nullable = true)\n",
      " |    |    |    |-- _count: long (nullable = true)\n",
      " |    |    |    |-- conf_info: string (nullable = true)\n",
      " |    |    |-- conf_locations: struct (nullable = true)\n",
      " |    |    |    |-- _count: long (nullable = true)\n",
      " |    |    |    |-- conf_location: struct (nullable = true)\n",
      " |    |    |    |    |-- conf_city: string (nullable = true)\n",
      " |    |    |    |    |-- conf_host: string (nullable = true)\n",
      " |    |    |    |    |-- conf_state: string (nullable = true)\n",
      " |    |    |-- conf_titles: struct (nullable = true)\n",
      " |    |    |    |-- _count: long (nullable = true)\n",
      " |    |    |    |-- conf_title: string (nullable = true)\n",
      " |    |    |-- sponsors: struct (nullable = true)\n",
      " |    |    |    |-- _count: long (nullable = true)\n",
      " |    |    |    |-- sponsor: array (nullable = true)\n",
      " |    |    |    |    |-- element: string (containsNull = true)\n",
      " |-- address_name: array (nullable = true)\n",
      " |    |-- element: struct (containsNull = true)\n",
      " |    |    |-- address_spec: struct (nullable = true)\n",
      " |    |    |    |-- _addr_no: long (nullable = true)\n",
      " |    |    |    |-- city: string (nullable = true)\n",
      " |    |    |    |-- country: string (nullable = true)\n",
      " |    |    |    |-- full_address: string (nullable = true)\n",
      " |    |    |    |-- organizations: struct (nullable = true)\n",
      " |    |    |    |    |-- _count: long (nullable = true)\n",
      " |    |    |    |    |-- organization: array (nullable = true)\n",
      " |    |    |    |    |    |-- element: struct (containsNull = true)\n",
      " |    |    |    |    |    |    |-- _VALUE: string (nullable = true)\n",
      " |    |    |    |    |    |    |-- _pref: string (nullable = true)\n",
      " |    |    |    |-- state: string (nullable = true)\n",
      " |    |    |    |-- street: string (nullable = true)\n",
      " |    |    |    |-- suborganizations: struct (nullable = true)\n",
      " |    |    |    |    |-- _count: long (nullable = true)\n",
      " |    |    |    |    |-- suborganization: array (nullable = true)\n",
      " |    |    |    |    |    |-- element: string (containsNull = true)\n",
      " |    |    |    |-- zip: array (nullable = true)\n",
      " |    |    |    |    |-- element: struct (containsNull = true)\n",
      " |    |    |    |    |    |-- _VALUE: string (nullable = true)\n",
      " |    |    |    |    |    |-- _location: string (nullable = true)\n",
      " |    |    |-- names: struct (nullable = true)\n",
      " |    |    |    |-- _count: long (nullable = true)\n",
      " |    |    |    |-- name: array (nullable = true)\n",
      " |    |    |    |    |-- element: struct (containsNull = true)\n",
      " |    |    |    |    |    |-- _addr_no: long (nullable = true)\n",
      " |    |    |    |    |    |-- _orcid_id_tr: string (nullable = true)\n",
      " |    |    |    |    |    |-- _r_id: string (nullable = true)\n",
      " |    |    |    |    |    |-- _r_id_tr: string (nullable = true)\n",
      " |    |    |    |    |    |-- _reprint: string (nullable = true)\n",
      " |    |    |    |    |    |-- _role: string (nullable = true)\n",
      " |    |    |    |    |    |-- _seq_no: long (nullable = true)\n",
      " |    |    |    |    |    |-- display_name: string (nullable = true)\n",
      " |    |    |    |    |    |-- email_addr: string (nullable = true)\n",
      " |    |    |    |    |    |-- first_name: string (nullable = true)\n",
      " |    |    |    |    |    |-- full_name: string (nullable = true)\n",
      " |    |    |    |    |    |-- last_name: string (nullable = true)\n",
      " |    |    |    |    |    |-- suffix: string (nullable = true)\n",
      " |    |    |    |    |    |-- wos_standard: string (nullable = true)\n",
      " |-- abstract_text: struct (nullable = true)\n",
      " |    |-- _count: long (nullable = true)\n",
      " |    |-- p: array (nullable = true)\n",
      " |    |    |-- element: string (containsNull = true)\n",
      " |-- keyword: array (nullable = true)\n",
      " |    |-- element: string (containsNull = true)\n",
      " |-- reference: array (nullable = true)\n",
      " |    |-- element: struct (containsNull = true)\n",
      " |    |    |-- art_no: string (nullable = true)\n",
      " |    |    |-- assignee: string (nullable = true)\n",
      " |    |    |-- citedAuthor: string (nullable = true)\n",
      " |    |    |-- citedTitle: string (nullable = true)\n",
      " |    |    |-- citedWork: string (nullable = true)\n",
      " |    |    |-- doi: string (nullable = true)\n",
      " |    |    |-- i: array (nullable = true)\n",
      " |    |    |    |-- element: string (containsNull = true)\n",
      " |    |    |-- page: string (nullable = true)\n",
      " |    |    |-- patent_no: string (nullable = true)\n",
      " |    |    |-- sub: array (nullable = true)\n",
      " |    |    |    |-- element: string (containsNull = true)\n",
      " |    |    |-- sup: array (nullable = true)\n",
      " |    |    |    |-- element: string (containsNull = true)\n",
      " |    |    |-- uid: string (nullable = true)\n",
      " |    |    |-- volume: string (nullable = true)\n",
      " |    |    |-- year: string (nullable = true)\n",
      " |-- pub_info: struct (nullable = true)\n",
      " |    |-- _coverdate: string (nullable = true)\n",
      " |    |-- _early_access_date: string (nullable = true)\n",
      " |    |-- _early_access_month: long (nullable = true)\n",
      " |    |-- _early_access_year: long (nullable = true)\n",
      " |    |-- _has_abstract: string (nullable = true)\n",
      " |    |-- _issue: string (nullable = true)\n",
      " |    |-- _part_no: string (nullable = true)\n",
      " |    |-- _pubmonth: string (nullable = true)\n",
      " |    |-- _pubtype: string (nullable = true)\n",
      " |    |-- _pubyear: long (nullable = true)\n",
      " |    |-- _sortdate: string (nullable = true)\n",
      " |    |-- _special_issue: string (nullable = true)\n",
      " |    |-- _supplement: string (nullable = true)\n",
      " |    |-- _vol: string (nullable = true)\n",
      " |    |-- page: struct (nullable = true)\n",
      " |    |    |-- _VALUE: string (nullable = true)\n",
      " |    |    |-- _begin: string (nullable = true)\n",
      " |    |    |-- _end: string (nullable = true)\n",
      " |    |    |-- _page_count: long (nullable = true)\n",
      " |-- publishers: struct (nullable = true)\n",
      " |    |-- publisher: struct (nullable = true)\n",
      " |    |    |-- address_spec: struct (nullable = true)\n",
      " |    |    |    |-- _addr_no: long (nullable = true)\n",
      " |    |    |    |-- city: string (nullable = true)\n",
      " |    |    |    |-- full_address: string (nullable = true)\n",
      " |    |    |-- names: struct (nullable = true)\n",
      " |    |    |    |-- _count: long (nullable = true)\n",
      " |    |    |    |-- name: struct (nullable = true)\n",
      " |    |    |    |    |-- _addr_no: long (nullable = true)\n",
      " |    |    |    |    |-- _role: string (nullable = true)\n",
      " |    |    |    |    |-- _seq_no: long (nullable = true)\n",
      " |    |    |    |    |-- display_name: string (nullable = true)\n",
      " |    |    |    |    |-- full_name: string (nullable = true)\n",
      " |-- grant: array (nullable = true)\n",
      " |    |-- element: struct (containsNull = true)\n",
      " |    |    |-- grant_agency: string (nullable = true)\n",
      " |    |    |-- grant_ids: struct (nullable = true)\n",
      " |    |    |    |-- _count: long (nullable = true)\n",
      " |    |    |    |-- grant_id: array (nullable = true)\n",
      " |    |    |    |    |-- element: string (containsNull = true)\n",
      "\n"
     ]
    },
    {
     "data": {
      "text/plain": [
       "WoS = [UID: string, _r_id_disclaimer: string ... 14 more fields]\n",
       "WoS2 = [UID: string, identifier: array<struct<_VALUE:string,_type:string,_value:string>> ... 11 more fields]\n"
      ]
     },
     "metadata": {},
     "output_type": "display_data",
     "source": "user"
    },
    {
     "data": {
      "text/plain": [
       "[UID: string, identifier: array<struct<_VALUE:string,_type:string,_value:string>> ... 11 more fields]"
      ]
     },
     "execution_count": 2,
     "metadata": {},
     "output_type": "execute_result"
    }
   ],
   "source": [
    "val WoS = spark.read.format(\"parquet\").load(\"/WoSraw/WoS2019/parquet/*.parquet\")\n",
    "\n",
    "val WoS2 = WoS.select(\"UID\",\"dynamic_data.cluster_related.identifiers.identifier\",\"static_data.summary.doctypes.doctype\",\n",
    "                      \"static_data.summary.names.name\",\"static_data.summary.titles\",\"static_data.summary.conferences.conference\",\n",
    "                      \"static_data.fullrecord_metadata.addresses.address_name\",\"static_data.fullrecord_metadata.abstracts.abstract.abstract_text\",\n",
    "                      \"static_data.fullrecord_metadata.keywords.keyword\",\n",
    "                      \"static_data.fullrecord_metadata.references.reference\",\n",
    "                      \"static_data.summary.pub_info\",\"static_data.summary.publishers\",\"static_data.fullrecord_metadata.fund_ack.grants.grant\")\n",
    "WoS2.printSchema"
   ]
  },
  {
   "cell_type": "code",
   "execution_count": 3,
   "metadata": {
    "scrolled": true
   },
   "outputs": [
    {
     "name": "stdout",
     "output_type": "stream",
     "text": [
      "+--------------+--------+\n",
      "|         _type|   count|\n",
      "+--------------+--------+\n",
      "|     abbrev_11|71493700|\n",
      "|   book_series| 4911983|\n",
      "|book_seriessub|    3249|\n",
      "| source_abbrev|71493278|\n",
      "|        source|74883485|\n",
      "| book_subtitle|  468957|\n",
      "|    abbrev_iso|61763329|\n",
      "|        series| 4912042|\n",
      "|          item|74883956|\n",
      "|     abbrev_29|71493199|\n",
      "|          book|   61966|\n",
      "+--------------+--------+\n",
      "\n"
     ]
    },
    {
     "data": {
      "text/plain": [
       "cityJ = [UID: string, titles: struct<_count: bigint, title: array<struct<_VALUE:string,_translated:string,_type:string>>> ... 6 more fields]\n",
       "cityJ2 = [UID: string, titles: struct<_VALUE: string, _translated: string ... 1 more field> ... 6 more fields]\n"
      ]
     },
     "metadata": {},
     "output_type": "display_data",
     "source": "user"
    },
    {
     "data": {
      "text/plain": [
       "[UID: string, titles: struct<_VALUE: string, _translated: string ... 1 more field> ... 6 more fields]"
      ]
     },
     "execution_count": 3,
     "metadata": {},
     "output_type": "execute_result"
    }
   ],
   "source": [
    "import scala.util.Try\n",
    "import org.apache.spark.sql.functions._\n",
    "import org.apache.spark.sql.{Row, SQLContext}\n",
    "import org.apache.spark.sql.functions.countDistinct\n",
    "\n",
    "//WoS2.describe().filter($\"summary\" === \"count\").show\n",
    "val cityJ = WoS2.select(\"UID\",\"titles\",\"pub_info._pubyear\",\"address_name.address_spec.organizations.organization\",\"address_name.address_spec.city\",\"address_name.address_spec.state\",\"address_name.address_spec.country\",\"address_name.address_spec.full_address\")//.filter(\"city is not null\")\n",
    "val cityJ2 = cityJ.withColumn(\"titles\", explode(col(\"titles.title\")))\n",
    "cityJ2.groupBy(\"titles._type\").count().show"
   ]
  },
  {
   "cell_type": "code",
   "execution_count": 4,
   "metadata": {},
   "outputs": [
    {
     "name": "stdout",
     "output_type": "stream",
     "text": [
      "root\n",
      " |-- UID: string (nullable = true)\n",
      " |-- titles: struct (nullable = true)\n",
      " |    |-- _count: long (nullable = true)\n",
      " |    |-- title: array (nullable = true)\n",
      " |    |    |-- element: struct (containsNull = true)\n",
      " |    |    |    |-- _VALUE: string (nullable = true)\n",
      " |    |    |    |-- _translated: string (nullable = true)\n",
      " |    |    |    |-- _type: string (nullable = true)\n",
      " |-- _pubyear: long (nullable = true)\n",
      " |-- organization: array (nullable = true)\n",
      " |    |-- element: array (containsNull = true)\n",
      " |    |    |-- element: struct (containsNull = true)\n",
      " |    |    |    |-- _VALUE: string (nullable = true)\n",
      " |    |    |    |-- _pref: string (nullable = true)\n",
      " |-- city: array (nullable = true)\n",
      " |    |-- element: string (containsNull = true)\n",
      " |-- state: array (nullable = true)\n",
      " |    |-- element: string (containsNull = true)\n",
      " |-- country: array (nullable = true)\n",
      " |    |-- element: string (containsNull = true)\n",
      " |-- full_address: array (nullable = true)\n",
      " |    |-- element: string (containsNull = true)\n",
      " |-- Institutions: array (nullable = true)\n",
      " |    |-- element: struct (containsNull = true)\n",
      " |    |    |-- _VALUE: string (nullable = true)\n",
      " |    |    |-- _pref: string (nullable = true)\n",
      "\n"
     ]
    },
    {
     "data": {
      "text/plain": [
       "InstList = [UID: string, titles: struct<_count: bigint, title: array<struct<_VALUE:string,_translated:string,_type:string>>> ... 7 more fields]\n"
      ]
     },
     "metadata": {},
     "output_type": "display_data",
     "source": "user"
    },
    {
     "data": {
      "text/plain": [
       "[UID: string, titles: struct<_count: bigint, title: array<struct<_VALUE:string,_translated:string,_type:string>>> ... 7 more fields]"
      ]
     },
     "execution_count": 4,
     "metadata": {},
     "output_type": "execute_result"
    }
   ],
   "source": [
    "val InstList = cityJ.withColumn(\"Institutions\", explode(col(\"organization\"))).cache()\n",
    "InstList.printSchema"
   ]
  },
  {
   "cell_type": "code",
   "execution_count": 5,
   "metadata": {},
   "outputs": [
    {
     "name": "stdout",
     "output_type": "stream",
     "text": [
      "+-------+--------+--------+\n",
      "|summary|     UID|_pubyear|\n",
      "+-------+--------+--------+\n",
      "|  count|94116225|94116225|\n",
      "+-------+--------+--------+\n",
      "\n"
     ]
    },
    {
     "data": {
      "text/plain": [
       "UIDinstEnhanced = [UID: string, _pubyear: bigint ... 6 more fields]\n"
      ]
     },
     "metadata": {},
     "output_type": "display_data",
     "source": "user"
    },
    {
     "data": {
      "text/plain": [
       "[UID: string, _pubyear: bigint ... 6 more fields]"
      ]
     },
     "execution_count": 5,
     "metadata": {},
     "output_type": "execute_result"
    }
   ],
   "source": [
    "val UIDinstEnhanced = InstList.select(\"UID\",\"_pubyear\",\"full_address\",\"city\",\"state\",\"country\",\"Institutions._VALUE\",\"Institutions._pref\").filter(array_contains($\"_pref\",\"Y\"))\n",
    "UIDinstEnhanced.describe().filter($\"summary\" === \"count\").show"
   ]
  },
  {
   "cell_type": "code",
   "execution_count": 6,
   "metadata": {},
   "outputs": [
    {
     "name": "stdout",
     "output_type": "stream",
     "text": [
      "+-------+---------+---------+\n",
      "|summary|      UID| _pubyear|\n",
      "+-------+---------+---------+\n",
      "|  count|110470160|110470160|\n",
      "+-------+---------+---------+\n",
      "\n"
     ]
    }
   ],
   "source": [
    "InstList.describe().filter($\"summary\" === \"count\").show\n",
    "//UIDinstEnhanced.groupBy(\"_pubyear\").count().orderBy(\"_pubyear\").show(120)"
   ]
  },
  {
   "cell_type": "code",
   "execution_count": 7,
   "metadata": {},
   "outputs": [],
   "source": [
    "import org.apache.spark.sql.SaveMode\n",
    "UIDinstEnhanced.write.mode(SaveMode.Overwrite)\n",
    ".parquet(\"/data1/WoSinstEnhanced/\")"
   ]
  },
  {
   "cell_type": "code",
   "execution_count": null,
   "metadata": {},
   "outputs": [],
   "source": [
    "import scala.util.Try\n",
    "import org.apache.spark.sql.functions._\n",
    "import org.apache.spark.sql.{Row, SQLContext}\n",
    "import org.apache.spark.sql.functions.countDistinct\n",
    "\n",
    "val UIDinstEnhanced = spark.read.format(\"parquet\").load(\"/data1/WoSinstEnhanced/*.parquet\")\n",
    "\n",
    "UIDinstEnhanced.printSchema"
   ]
  },
  {
   "cell_type": "code",
   "execution_count": 8,
   "metadata": {},
   "outputs": [
    {
     "name": "stdout",
     "output_type": "stream",
     "text": [
      "+-------------------+--------+----------------------------------------------------------------------------------------------------------------------------------------------------------------------------------------------------------------------------------------------------------------------------------------------------------------------------------------------------------------------------------------------------------------------------------------------------------------------------------------------------------------------------------------------------------------------------------------------------------------------------------------------------------------------------------------------------------------------------------------------------------------------------------------------------------------+---------------------------------------------------------------------------------------------------------------------------------------+----------------------------------------------+-----------------------------------------------------------------------------+---------------------------------------------------------------------------------------------------------------------------------------------------------------------------------------------------------------------+--------------------+-------------------------------------------------------------------------------------------------------------------------------------------------------------------------------------------------------------+--------------------------------------------------------------------------------------------------------------------------------------------------------------------------------------------------------------------------------------------------------------------------------------------------------------------------------------------------------------------------------------------------------------------------------------------------------------------------------------------------------------------------------------------------------------------------------------------------------------------------------------------------------------------------------------------------------------------------------------------------------------------------------------------------+-------------------------------------------------------------------------------------------------------------------------+--------------------------------+---------------------------------------------------------------+\n",
      "|UID                |_pubyear|full_address                                                                                                                                                                                                                                                                                                                                                                                                                                                                                                                                                                                                                                                                                                                                                                                                    |city                                                                                                                                   |state                                         |country                                                                      |_VALUE                                                                                                                                                                                                               |_pref               |institution                                                                                                                                                                                                  |full_addresses                                                                                                                                                                                                                                                                                                                                                                                                                                                                                                                                                                                                                                                                                                                                                                                    |cities                                                                                                                   |states                          |countries                                                      |\n",
      "+-------------------+--------+----------------------------------------------------------------------------------------------------------------------------------------------------------------------------------------------------------------------------------------------------------------------------------------------------------------------------------------------------------------------------------------------------------------------------------------------------------------------------------------------------------------------------------------------------------------------------------------------------------------------------------------------------------------------------------------------------------------------------------------------------------------------------------------------------------------+---------------------------------------------------------------------------------------------------------------------------------------+----------------------------------------------+-----------------------------------------------------------------------------+---------------------------------------------------------------------------------------------------------------------------------------------------------------------------------------------------------------------+--------------------+-------------------------------------------------------------------------------------------------------------------------------------------------------------------------------------------------------------+--------------------------------------------------------------------------------------------------------------------------------------------------------------------------------------------------------------------------------------------------------------------------------------------------------------------------------------------------------------------------------------------------------------------------------------------------------------------------------------------------------------------------------------------------------------------------------------------------------------------------------------------------------------------------------------------------------------------------------------------------------------------------------------------------+-------------------------------------------------------------------------------------------------------------------------+--------------------------------+---------------------------------------------------------------+\n",
      "|WOS:000257661900001|2008    |[Spitzer Sci Ctr, Pasadena, CA 91125 USA, Natl Radio Astron Observ, Socorro, NM 87801 USA, Harvard Smithsonian Ctr Astrophys, Cambridge, MA 02138 USA, Univ Paris 07, UMR 7158, Ctr Etud Saclay,AIM, CNRS,Unite Mixte Rech CEA, F-91191 Gif Sur Yvette, France, Max Planck Inst Astron, D-69117 Heidelberg, Germany, Univ Massachusetts, Dept Astron, Amherst, MA 01003 USA, Univ Hawaii, Inst Astron, Honolulu, HI 96822 USA, Yale Univ, Dept Astron, New Haven, CT 06511 USA, Univ Paris 06, CNRS, UMR 7095, Inst Astrophys, F-75014 Paris, France, Univ Calif Riverside, Dept Phys & Astron, Riverside, CA 92521 USA, Ehime Univ, Res Ctr Space & Cosm Evolut, Matsuyama, Ehime 7908577, Japan, Univ Arizona, Large Binocular Telescope Observ, Tucson, AZ 85721 USA, 105 24 Caltech, Pasadena, CA 91125 USA]|[Pasadena, Socorro, Cambridge, Gif Sur Yvette, Heidelberg, Amherst, Honolulu, New Haven, Paris, Riverside, Matsuyama, Tucson, Pasadena]|[CA, NM, MA,,, MA, HI, CT,, CA, Ehime, AZ, CA]|[USA, USA, USA, France, Germany, USA, USA, USA, France, USA, Japan, USA, USA]|[Natl Radio Astron Observ, National Radio Astronomy Observatory (NRAO)]                                                                                                                                              |[, Y]               |Natl Radio Astron Observ;National Radio Astronomy Observatory (NRAO)                                                                                                                                         |Spitzer Sci Ctr, Pasadena, CA 91125 USA|Natl Radio Astron Observ, Socorro, NM 87801 USA|Harvard Smithsonian Ctr Astrophys, Cambridge, MA 02138 USA|Univ Paris 07, UMR 7158, Ctr Etud Saclay,AIM, CNRS,Unite Mixte Rech CEA, F-91191 Gif Sur Yvette, France|Max Planck Inst Astron, D-69117 Heidelberg, Germany|Univ Massachusetts, Dept Astron, Amherst, MA 01003 USA|Univ Hawaii, Inst Astron, Honolulu, HI 96822 USA|Yale Univ, Dept Astron, New Haven, CT 06511 USA|Univ Paris 06, CNRS, UMR 7095, Inst Astrophys, F-75014 Paris, France|Univ Calif Riverside, Dept Phys & Astron, Riverside, CA 92521 USA|Ehime Univ, Res Ctr Space & Cosm Evolut, Matsuyama, Ehime 7908577, Japan|Univ Arizona, Large Binocular Telescope Observ, Tucson, AZ 85721 USA|105 24 Caltech, Pasadena, CA 91125 USA|Pasadena|Socorro|Cambridge|Gif Sur Yvette|Heidelberg|Amherst|Honolulu|New Haven|Paris|Riverside|Matsuyama|Tucson|Pasadena|CA|NM|MA|MA|HI|CT|CA|Ehime|AZ|CA|USA|USA|USA|France|Germany|USA|USA|USA|France|USA|Japan|USA|USA|\n",
      "|WOS:000257661900001|2008    |[Spitzer Sci Ctr, Pasadena, CA 91125 USA, Natl Radio Astron Observ, Socorro, NM 87801 USA, Harvard Smithsonian Ctr Astrophys, Cambridge, MA 02138 USA, Univ Paris 07, UMR 7158, Ctr Etud Saclay,AIM, CNRS,Unite Mixte Rech CEA, F-91191 Gif Sur Yvette, France, Max Planck Inst Astron, D-69117 Heidelberg, Germany, Univ Massachusetts, Dept Astron, Amherst, MA 01003 USA, Univ Hawaii, Inst Astron, Honolulu, HI 96822 USA, Yale Univ, Dept Astron, New Haven, CT 06511 USA, Univ Paris 06, CNRS, UMR 7095, Inst Astrophys, F-75014 Paris, France, Univ Calif Riverside, Dept Phys & Astron, Riverside, CA 92521 USA, Ehime Univ, Res Ctr Space & Cosm Evolut, Matsuyama, Ehime 7908577, Japan, Univ Arizona, Large Binocular Telescope Observ, Tucson, AZ 85721 USA, 105 24 Caltech, Pasadena, CA 91125 USA]|[Pasadena, Socorro, Cambridge, Gif Sur Yvette, Heidelberg, Amherst, Honolulu, New Haven, Paris, Riverside, Matsuyama, Tucson, Pasadena]|[CA, NM, MA,,, MA, HI, CT,, CA, Ehime, AZ, CA]|[USA, USA, USA, France, Germany, USA, USA, USA, France, USA, Japan, USA, USA]|[Harvard Smithsonian Ctr Astrophys, Harvard University, Smithsonian Astrophysical Observatory, Smithsonian Institution]                                                                                              |[, Y, Y, Y]         |Harvard Smithsonian Ctr Astrophys;Harvard University;Smithsonian Astrophysical Observatory;Smithsonian Institution                                                                                           |Spitzer Sci Ctr, Pasadena, CA 91125 USA|Natl Radio Astron Observ, Socorro, NM 87801 USA|Harvard Smithsonian Ctr Astrophys, Cambridge, MA 02138 USA|Univ Paris 07, UMR 7158, Ctr Etud Saclay,AIM, CNRS,Unite Mixte Rech CEA, F-91191 Gif Sur Yvette, France|Max Planck Inst Astron, D-69117 Heidelberg, Germany|Univ Massachusetts, Dept Astron, Amherst, MA 01003 USA|Univ Hawaii, Inst Astron, Honolulu, HI 96822 USA|Yale Univ, Dept Astron, New Haven, CT 06511 USA|Univ Paris 06, CNRS, UMR 7095, Inst Astrophys, F-75014 Paris, France|Univ Calif Riverside, Dept Phys & Astron, Riverside, CA 92521 USA|Ehime Univ, Res Ctr Space & Cosm Evolut, Matsuyama, Ehime 7908577, Japan|Univ Arizona, Large Binocular Telescope Observ, Tucson, AZ 85721 USA|105 24 Caltech, Pasadena, CA 91125 USA|Pasadena|Socorro|Cambridge|Gif Sur Yvette|Heidelberg|Amherst|Honolulu|New Haven|Paris|Riverside|Matsuyama|Tucson|Pasadena|CA|NM|MA|MA|HI|CT|CA|Ehime|AZ|CA|USA|USA|USA|France|Germany|USA|USA|USA|France|USA|Japan|USA|USA|\n",
      "|WOS:000257661900001|2008    |[Spitzer Sci Ctr, Pasadena, CA 91125 USA, Natl Radio Astron Observ, Socorro, NM 87801 USA, Harvard Smithsonian Ctr Astrophys, Cambridge, MA 02138 USA, Univ Paris 07, UMR 7158, Ctr Etud Saclay,AIM, CNRS,Unite Mixte Rech CEA, F-91191 Gif Sur Yvette, France, Max Planck Inst Astron, D-69117 Heidelberg, Germany, Univ Massachusetts, Dept Astron, Amherst, MA 01003 USA, Univ Hawaii, Inst Astron, Honolulu, HI 96822 USA, Yale Univ, Dept Astron, New Haven, CT 06511 USA, Univ Paris 06, CNRS, UMR 7095, Inst Astrophys, F-75014 Paris, France, Univ Calif Riverside, Dept Phys & Astron, Riverside, CA 92521 USA, Ehime Univ, Res Ctr Space & Cosm Evolut, Matsuyama, Ehime 7908577, Japan, Univ Arizona, Large Binocular Telescope Observ, Tucson, AZ 85721 USA, 105 24 Caltech, Pasadena, CA 91125 USA]|[Pasadena, Socorro, Cambridge, Gif Sur Yvette, Heidelberg, Amherst, Honolulu, New Haven, Paris, Riverside, Matsuyama, Tucson, Pasadena]|[CA, NM, MA,,, MA, HI, CT,, CA, Ehime, AZ, CA]|[USA, USA, USA, France, Germany, USA, USA, USA, France, USA, Japan, USA, USA]|[Univ Paris 07, Centre National de la Recherche Scientifique (CNRS), CNRS - National Institute for Earth Sciences & Astronomy (INSU), Universite de Paris, University of Paris Diderot, CEA, Universite Paris Saclay]|[, Y, Y, Y, Y, Y, Y]|Univ Paris 07;Centre National de la Recherche Scientifique (CNRS);CNRS - National Institute for Earth Sciences & Astronomy (INSU);Universite de Paris;University of Paris Diderot;CEA;Universite Paris Saclay|Spitzer Sci Ctr, Pasadena, CA 91125 USA|Natl Radio Astron Observ, Socorro, NM 87801 USA|Harvard Smithsonian Ctr Astrophys, Cambridge, MA 02138 USA|Univ Paris 07, UMR 7158, Ctr Etud Saclay,AIM, CNRS,Unite Mixte Rech CEA, F-91191 Gif Sur Yvette, France|Max Planck Inst Astron, D-69117 Heidelberg, Germany|Univ Massachusetts, Dept Astron, Amherst, MA 01003 USA|Univ Hawaii, Inst Astron, Honolulu, HI 96822 USA|Yale Univ, Dept Astron, New Haven, CT 06511 USA|Univ Paris 06, CNRS, UMR 7095, Inst Astrophys, F-75014 Paris, France|Univ Calif Riverside, Dept Phys & Astron, Riverside, CA 92521 USA|Ehime Univ, Res Ctr Space & Cosm Evolut, Matsuyama, Ehime 7908577, Japan|Univ Arizona, Large Binocular Telescope Observ, Tucson, AZ 85721 USA|105 24 Caltech, Pasadena, CA 91125 USA|Pasadena|Socorro|Cambridge|Gif Sur Yvette|Heidelberg|Amherst|Honolulu|New Haven|Paris|Riverside|Matsuyama|Tucson|Pasadena|CA|NM|MA|MA|HI|CT|CA|Ehime|AZ|CA|USA|USA|USA|France|Germany|USA|USA|USA|France|USA|Japan|USA|USA|\n",
      "|WOS:000257661900001|2008    |[Spitzer Sci Ctr, Pasadena, CA 91125 USA, Natl Radio Astron Observ, Socorro, NM 87801 USA, Harvard Smithsonian Ctr Astrophys, Cambridge, MA 02138 USA, Univ Paris 07, UMR 7158, Ctr Etud Saclay,AIM, CNRS,Unite Mixte Rech CEA, F-91191 Gif Sur Yvette, France, Max Planck Inst Astron, D-69117 Heidelberg, Germany, Univ Massachusetts, Dept Astron, Amherst, MA 01003 USA, Univ Hawaii, Inst Astron, Honolulu, HI 96822 USA, Yale Univ, Dept Astron, New Haven, CT 06511 USA, Univ Paris 06, CNRS, UMR 7095, Inst Astrophys, F-75014 Paris, France, Univ Calif Riverside, Dept Phys & Astron, Riverside, CA 92521 USA, Ehime Univ, Res Ctr Space & Cosm Evolut, Matsuyama, Ehime 7908577, Japan, Univ Arizona, Large Binocular Telescope Observ, Tucson, AZ 85721 USA, 105 24 Caltech, Pasadena, CA 91125 USA]|[Pasadena, Socorro, Cambridge, Gif Sur Yvette, Heidelberg, Amherst, Honolulu, New Haven, Paris, Riverside, Matsuyama, Tucson, Pasadena]|[CA, NM, MA,,, MA, HI, CT,, CA, Ehime, AZ, CA]|[USA, USA, USA, France, Germany, USA, USA, USA, France, USA, Japan, USA, USA]|[Max Planck Inst Astron, Max Planck Society]                                                                                                                                                                         |[, Y]               |Max Planck Inst Astron;Max Planck Society                                                                                                                                                                    |Spitzer Sci Ctr, Pasadena, CA 91125 USA|Natl Radio Astron Observ, Socorro, NM 87801 USA|Harvard Smithsonian Ctr Astrophys, Cambridge, MA 02138 USA|Univ Paris 07, UMR 7158, Ctr Etud Saclay,AIM, CNRS,Unite Mixte Rech CEA, F-91191 Gif Sur Yvette, France|Max Planck Inst Astron, D-69117 Heidelberg, Germany|Univ Massachusetts, Dept Astron, Amherst, MA 01003 USA|Univ Hawaii, Inst Astron, Honolulu, HI 96822 USA|Yale Univ, Dept Astron, New Haven, CT 06511 USA|Univ Paris 06, CNRS, UMR 7095, Inst Astrophys, F-75014 Paris, France|Univ Calif Riverside, Dept Phys & Astron, Riverside, CA 92521 USA|Ehime Univ, Res Ctr Space & Cosm Evolut, Matsuyama, Ehime 7908577, Japan|Univ Arizona, Large Binocular Telescope Observ, Tucson, AZ 85721 USA|105 24 Caltech, Pasadena, CA 91125 USA|Pasadena|Socorro|Cambridge|Gif Sur Yvette|Heidelberg|Amherst|Honolulu|New Haven|Paris|Riverside|Matsuyama|Tucson|Pasadena|CA|NM|MA|MA|HI|CT|CA|Ehime|AZ|CA|USA|USA|USA|France|Germany|USA|USA|USA|France|USA|Japan|USA|USA|\n",
      "|WOS:000257661900001|2008    |[Spitzer Sci Ctr, Pasadena, CA 91125 USA, Natl Radio Astron Observ, Socorro, NM 87801 USA, Harvard Smithsonian Ctr Astrophys, Cambridge, MA 02138 USA, Univ Paris 07, UMR 7158, Ctr Etud Saclay,AIM, CNRS,Unite Mixte Rech CEA, F-91191 Gif Sur Yvette, France, Max Planck Inst Astron, D-69117 Heidelberg, Germany, Univ Massachusetts, Dept Astron, Amherst, MA 01003 USA, Univ Hawaii, Inst Astron, Honolulu, HI 96822 USA, Yale Univ, Dept Astron, New Haven, CT 06511 USA, Univ Paris 06, CNRS, UMR 7095, Inst Astrophys, F-75014 Paris, France, Univ Calif Riverside, Dept Phys & Astron, Riverside, CA 92521 USA, Ehime Univ, Res Ctr Space & Cosm Evolut, Matsuyama, Ehime 7908577, Japan, Univ Arizona, Large Binocular Telescope Observ, Tucson, AZ 85721 USA, 105 24 Caltech, Pasadena, CA 91125 USA]|[Pasadena, Socorro, Cambridge, Gif Sur Yvette, Heidelberg, Amherst, Honolulu, New Haven, Paris, Riverside, Matsuyama, Tucson, Pasadena]|[CA, NM, MA,,, MA, HI, CT,, CA, Ehime, AZ, CA]|[USA, USA, USA, France, Germany, USA, USA, USA, France, USA, Japan, USA, USA]|[Univ Massachusetts, University of Massachusetts System, University of Massachusetts Amherst]                                                                                                                        |[, Y, Y]            |Univ Massachusetts;University of Massachusetts System;University of Massachusetts Amherst                                                                                                                    |Spitzer Sci Ctr, Pasadena, CA 91125 USA|Natl Radio Astron Observ, Socorro, NM 87801 USA|Harvard Smithsonian Ctr Astrophys, Cambridge, MA 02138 USA|Univ Paris 07, UMR 7158, Ctr Etud Saclay,AIM, CNRS,Unite Mixte Rech CEA, F-91191 Gif Sur Yvette, France|Max Planck Inst Astron, D-69117 Heidelberg, Germany|Univ Massachusetts, Dept Astron, Amherst, MA 01003 USA|Univ Hawaii, Inst Astron, Honolulu, HI 96822 USA|Yale Univ, Dept Astron, New Haven, CT 06511 USA|Univ Paris 06, CNRS, UMR 7095, Inst Astrophys, F-75014 Paris, France|Univ Calif Riverside, Dept Phys & Astron, Riverside, CA 92521 USA|Ehime Univ, Res Ctr Space & Cosm Evolut, Matsuyama, Ehime 7908577, Japan|Univ Arizona, Large Binocular Telescope Observ, Tucson, AZ 85721 USA|105 24 Caltech, Pasadena, CA 91125 USA|Pasadena|Socorro|Cambridge|Gif Sur Yvette|Heidelberg|Amherst|Honolulu|New Haven|Paris|Riverside|Matsuyama|Tucson|Pasadena|CA|NM|MA|MA|HI|CT|CA|Ehime|AZ|CA|USA|USA|USA|France|Germany|USA|USA|USA|France|USA|Japan|USA|USA|\n",
      "|WOS:000257661900001|2008    |[Spitzer Sci Ctr, Pasadena, CA 91125 USA, Natl Radio Astron Observ, Socorro, NM 87801 USA, Harvard Smithsonian Ctr Astrophys, Cambridge, MA 02138 USA, Univ Paris 07, UMR 7158, Ctr Etud Saclay,AIM, CNRS,Unite Mixte Rech CEA, F-91191 Gif Sur Yvette, France, Max Planck Inst Astron, D-69117 Heidelberg, Germany, Univ Massachusetts, Dept Astron, Amherst, MA 01003 USA, Univ Hawaii, Inst Astron, Honolulu, HI 96822 USA, Yale Univ, Dept Astron, New Haven, CT 06511 USA, Univ Paris 06, CNRS, UMR 7095, Inst Astrophys, F-75014 Paris, France, Univ Calif Riverside, Dept Phys & Astron, Riverside, CA 92521 USA, Ehime Univ, Res Ctr Space & Cosm Evolut, Matsuyama, Ehime 7908577, Japan, Univ Arizona, Large Binocular Telescope Observ, Tucson, AZ 85721 USA, 105 24 Caltech, Pasadena, CA 91125 USA]|[Pasadena, Socorro, Cambridge, Gif Sur Yvette, Heidelberg, Amherst, Honolulu, New Haven, Paris, Riverside, Matsuyama, Tucson, Pasadena]|[CA, NM, MA,,, MA, HI, CT,, CA, Ehime, AZ, CA]|[USA, USA, USA, France, Germany, USA, USA, USA, France, USA, Japan, USA, USA]|[Univ Hawaii, University of Hawaii System]                                                                                                                                                                           |[, Y]               |Univ Hawaii;University of Hawaii System                                                                                                                                                                      |Spitzer Sci Ctr, Pasadena, CA 91125 USA|Natl Radio Astron Observ, Socorro, NM 87801 USA|Harvard Smithsonian Ctr Astrophys, Cambridge, MA 02138 USA|Univ Paris 07, UMR 7158, Ctr Etud Saclay,AIM, CNRS,Unite Mixte Rech CEA, F-91191 Gif Sur Yvette, France|Max Planck Inst Astron, D-69117 Heidelberg, Germany|Univ Massachusetts, Dept Astron, Amherst, MA 01003 USA|Univ Hawaii, Inst Astron, Honolulu, HI 96822 USA|Yale Univ, Dept Astron, New Haven, CT 06511 USA|Univ Paris 06, CNRS, UMR 7095, Inst Astrophys, F-75014 Paris, France|Univ Calif Riverside, Dept Phys & Astron, Riverside, CA 92521 USA|Ehime Univ, Res Ctr Space & Cosm Evolut, Matsuyama, Ehime 7908577, Japan|Univ Arizona, Large Binocular Telescope Observ, Tucson, AZ 85721 USA|105 24 Caltech, Pasadena, CA 91125 USA|Pasadena|Socorro|Cambridge|Gif Sur Yvette|Heidelberg|Amherst|Honolulu|New Haven|Paris|Riverside|Matsuyama|Tucson|Pasadena|CA|NM|MA|MA|HI|CT|CA|Ehime|AZ|CA|USA|USA|USA|France|Germany|USA|USA|USA|France|USA|Japan|USA|USA|\n",
      "|WOS:000257661900001|2008    |[Spitzer Sci Ctr, Pasadena, CA 91125 USA, Natl Radio Astron Observ, Socorro, NM 87801 USA, Harvard Smithsonian Ctr Astrophys, Cambridge, MA 02138 USA, Univ Paris 07, UMR 7158, Ctr Etud Saclay,AIM, CNRS,Unite Mixte Rech CEA, F-91191 Gif Sur Yvette, France, Max Planck Inst Astron, D-69117 Heidelberg, Germany, Univ Massachusetts, Dept Astron, Amherst, MA 01003 USA, Univ Hawaii, Inst Astron, Honolulu, HI 96822 USA, Yale Univ, Dept Astron, New Haven, CT 06511 USA, Univ Paris 06, CNRS, UMR 7095, Inst Astrophys, F-75014 Paris, France, Univ Calif Riverside, Dept Phys & Astron, Riverside, CA 92521 USA, Ehime Univ, Res Ctr Space & Cosm Evolut, Matsuyama, Ehime 7908577, Japan, Univ Arizona, Large Binocular Telescope Observ, Tucson, AZ 85721 USA, 105 24 Caltech, Pasadena, CA 91125 USA]|[Pasadena, Socorro, Cambridge, Gif Sur Yvette, Heidelberg, Amherst, Honolulu, New Haven, Paris, Riverside, Matsuyama, Tucson, Pasadena]|[CA, NM, MA,,, MA, HI, CT,, CA, Ehime, AZ, CA]|[USA, USA, USA, France, Germany, USA, USA, USA, France, USA, Japan, USA, USA]|[Yale Univ, Yale University]                                                                                                                                                                                         |[, Y]               |Yale Univ;Yale University                                                                                                                                                                                    |Spitzer Sci Ctr, Pasadena, CA 91125 USA|Natl Radio Astron Observ, Socorro, NM 87801 USA|Harvard Smithsonian Ctr Astrophys, Cambridge, MA 02138 USA|Univ Paris 07, UMR 7158, Ctr Etud Saclay,AIM, CNRS,Unite Mixte Rech CEA, F-91191 Gif Sur Yvette, France|Max Planck Inst Astron, D-69117 Heidelberg, Germany|Univ Massachusetts, Dept Astron, Amherst, MA 01003 USA|Univ Hawaii, Inst Astron, Honolulu, HI 96822 USA|Yale Univ, Dept Astron, New Haven, CT 06511 USA|Univ Paris 06, CNRS, UMR 7095, Inst Astrophys, F-75014 Paris, France|Univ Calif Riverside, Dept Phys & Astron, Riverside, CA 92521 USA|Ehime Univ, Res Ctr Space & Cosm Evolut, Matsuyama, Ehime 7908577, Japan|Univ Arizona, Large Binocular Telescope Observ, Tucson, AZ 85721 USA|105 24 Caltech, Pasadena, CA 91125 USA|Pasadena|Socorro|Cambridge|Gif Sur Yvette|Heidelberg|Amherst|Honolulu|New Haven|Paris|Riverside|Matsuyama|Tucson|Pasadena|CA|NM|MA|MA|HI|CT|CA|Ehime|AZ|CA|USA|USA|USA|France|Germany|USA|USA|USA|France|USA|Japan|USA|USA|\n",
      "|WOS:000257661900001|2008    |[Spitzer Sci Ctr, Pasadena, CA 91125 USA, Natl Radio Astron Observ, Socorro, NM 87801 USA, Harvard Smithsonian Ctr Astrophys, Cambridge, MA 02138 USA, Univ Paris 07, UMR 7158, Ctr Etud Saclay,AIM, CNRS,Unite Mixte Rech CEA, F-91191 Gif Sur Yvette, France, Max Planck Inst Astron, D-69117 Heidelberg, Germany, Univ Massachusetts, Dept Astron, Amherst, MA 01003 USA, Univ Hawaii, Inst Astron, Honolulu, HI 96822 USA, Yale Univ, Dept Astron, New Haven, CT 06511 USA, Univ Paris 06, CNRS, UMR 7095, Inst Astrophys, F-75014 Paris, France, Univ Calif Riverside, Dept Phys & Astron, Riverside, CA 92521 USA, Ehime Univ, Res Ctr Space & Cosm Evolut, Matsuyama, Ehime 7908577, Japan, Univ Arizona, Large Binocular Telescope Observ, Tucson, AZ 85721 USA, 105 24 Caltech, Pasadena, CA 91125 USA]|[Pasadena, Socorro, Cambridge, Gif Sur Yvette, Heidelberg, Amherst, Honolulu, New Haven, Paris, Riverside, Matsuyama, Tucson, Pasadena]|[CA, NM, MA,,, MA, HI, CT,, CA, Ehime, AZ, CA]|[USA, USA, USA, France, Germany, USA, USA, USA, France, USA, Japan, USA, USA]|[Univ Paris 06, Centre National de la Recherche Scientifique (CNRS), CNRS - National Institute for Earth Sciences & Astronomy (INSU), Sorbonne Universite]                                                           |[, Y, Y, Y]         |Univ Paris 06;Centre National de la Recherche Scientifique (CNRS);CNRS - National Institute for Earth Sciences & Astronomy (INSU);Sorbonne Universite                                                        |Spitzer Sci Ctr, Pasadena, CA 91125 USA|Natl Radio Astron Observ, Socorro, NM 87801 USA|Harvard Smithsonian Ctr Astrophys, Cambridge, MA 02138 USA|Univ Paris 07, UMR 7158, Ctr Etud Saclay,AIM, CNRS,Unite Mixte Rech CEA, F-91191 Gif Sur Yvette, France|Max Planck Inst Astron, D-69117 Heidelberg, Germany|Univ Massachusetts, Dept Astron, Amherst, MA 01003 USA|Univ Hawaii, Inst Astron, Honolulu, HI 96822 USA|Yale Univ, Dept Astron, New Haven, CT 06511 USA|Univ Paris 06, CNRS, UMR 7095, Inst Astrophys, F-75014 Paris, France|Univ Calif Riverside, Dept Phys & Astron, Riverside, CA 92521 USA|Ehime Univ, Res Ctr Space & Cosm Evolut, Matsuyama, Ehime 7908577, Japan|Univ Arizona, Large Binocular Telescope Observ, Tucson, AZ 85721 USA|105 24 Caltech, Pasadena, CA 91125 USA|Pasadena|Socorro|Cambridge|Gif Sur Yvette|Heidelberg|Amherst|Honolulu|New Haven|Paris|Riverside|Matsuyama|Tucson|Pasadena|CA|NM|MA|MA|HI|CT|CA|Ehime|AZ|CA|USA|USA|USA|France|Germany|USA|USA|USA|France|USA|Japan|USA|USA|\n",
      "|WOS:000257661900001|2008    |[Spitzer Sci Ctr, Pasadena, CA 91125 USA, Natl Radio Astron Observ, Socorro, NM 87801 USA, Harvard Smithsonian Ctr Astrophys, Cambridge, MA 02138 USA, Univ Paris 07, UMR 7158, Ctr Etud Saclay,AIM, CNRS,Unite Mixte Rech CEA, F-91191 Gif Sur Yvette, France, Max Planck Inst Astron, D-69117 Heidelberg, Germany, Univ Massachusetts, Dept Astron, Amherst, MA 01003 USA, Univ Hawaii, Inst Astron, Honolulu, HI 96822 USA, Yale Univ, Dept Astron, New Haven, CT 06511 USA, Univ Paris 06, CNRS, UMR 7095, Inst Astrophys, F-75014 Paris, France, Univ Calif Riverside, Dept Phys & Astron, Riverside, CA 92521 USA, Ehime Univ, Res Ctr Space & Cosm Evolut, Matsuyama, Ehime 7908577, Japan, Univ Arizona, Large Binocular Telescope Observ, Tucson, AZ 85721 USA, 105 24 Caltech, Pasadena, CA 91125 USA]|[Pasadena, Socorro, Cambridge, Gif Sur Yvette, Heidelberg, Amherst, Honolulu, New Haven, Paris, Riverside, Matsuyama, Tucson, Pasadena]|[CA, NM, MA,,, MA, HI, CT,, CA, Ehime, AZ, CA]|[USA, USA, USA, France, Germany, USA, USA, USA, France, USA, Japan, USA, USA]|[Univ Calif Riverside, University of California System, University of California Riverside]                                                                                                                          |[, Y, Y]            |Univ Calif Riverside;University of California System;University of California Riverside                                                                                                                      |Spitzer Sci Ctr, Pasadena, CA 91125 USA|Natl Radio Astron Observ, Socorro, NM 87801 USA|Harvard Smithsonian Ctr Astrophys, Cambridge, MA 02138 USA|Univ Paris 07, UMR 7158, Ctr Etud Saclay,AIM, CNRS,Unite Mixte Rech CEA, F-91191 Gif Sur Yvette, France|Max Planck Inst Astron, D-69117 Heidelberg, Germany|Univ Massachusetts, Dept Astron, Amherst, MA 01003 USA|Univ Hawaii, Inst Astron, Honolulu, HI 96822 USA|Yale Univ, Dept Astron, New Haven, CT 06511 USA|Univ Paris 06, CNRS, UMR 7095, Inst Astrophys, F-75014 Paris, France|Univ Calif Riverside, Dept Phys & Astron, Riverside, CA 92521 USA|Ehime Univ, Res Ctr Space & Cosm Evolut, Matsuyama, Ehime 7908577, Japan|Univ Arizona, Large Binocular Telescope Observ, Tucson, AZ 85721 USA|105 24 Caltech, Pasadena, CA 91125 USA|Pasadena|Socorro|Cambridge|Gif Sur Yvette|Heidelberg|Amherst|Honolulu|New Haven|Paris|Riverside|Matsuyama|Tucson|Pasadena|CA|NM|MA|MA|HI|CT|CA|Ehime|AZ|CA|USA|USA|USA|France|Germany|USA|USA|USA|France|USA|Japan|USA|USA|\n",
      "|WOS:000257661900001|2008    |[Spitzer Sci Ctr, Pasadena, CA 91125 USA, Natl Radio Astron Observ, Socorro, NM 87801 USA, Harvard Smithsonian Ctr Astrophys, Cambridge, MA 02138 USA, Univ Paris 07, UMR 7158, Ctr Etud Saclay,AIM, CNRS,Unite Mixte Rech CEA, F-91191 Gif Sur Yvette, France, Max Planck Inst Astron, D-69117 Heidelberg, Germany, Univ Massachusetts, Dept Astron, Amherst, MA 01003 USA, Univ Hawaii, Inst Astron, Honolulu, HI 96822 USA, Yale Univ, Dept Astron, New Haven, CT 06511 USA, Univ Paris 06, CNRS, UMR 7095, Inst Astrophys, F-75014 Paris, France, Univ Calif Riverside, Dept Phys & Astron, Riverside, CA 92521 USA, Ehime Univ, Res Ctr Space & Cosm Evolut, Matsuyama, Ehime 7908577, Japan, Univ Arizona, Large Binocular Telescope Observ, Tucson, AZ 85721 USA, 105 24 Caltech, Pasadena, CA 91125 USA]|[Pasadena, Socorro, Cambridge, Gif Sur Yvette, Heidelberg, Amherst, Honolulu, New Haven, Paris, Riverside, Matsuyama, Tucson, Pasadena]|[CA, NM, MA,,, MA, HI, CT,, CA, Ehime, AZ, CA]|[USA, USA, USA, France, Germany, USA, USA, USA, France, USA, Japan, USA, USA]|[Ehime Univ, Ehime University]                                                                                                                                                                                       |[, Y]               |Ehime Univ;Ehime University                                                                                                                                                                                  |Spitzer Sci Ctr, Pasadena, CA 91125 USA|Natl Radio Astron Observ, Socorro, NM 87801 USA|Harvard Smithsonian Ctr Astrophys, Cambridge, MA 02138 USA|Univ Paris 07, UMR 7158, Ctr Etud Saclay,AIM, CNRS,Unite Mixte Rech CEA, F-91191 Gif Sur Yvette, France|Max Planck Inst Astron, D-69117 Heidelberg, Germany|Univ Massachusetts, Dept Astron, Amherst, MA 01003 USA|Univ Hawaii, Inst Astron, Honolulu, HI 96822 USA|Yale Univ, Dept Astron, New Haven, CT 06511 USA|Univ Paris 06, CNRS, UMR 7095, Inst Astrophys, F-75014 Paris, France|Univ Calif Riverside, Dept Phys & Astron, Riverside, CA 92521 USA|Ehime Univ, Res Ctr Space & Cosm Evolut, Matsuyama, Ehime 7908577, Japan|Univ Arizona, Large Binocular Telescope Observ, Tucson, AZ 85721 USA|105 24 Caltech, Pasadena, CA 91125 USA|Pasadena|Socorro|Cambridge|Gif Sur Yvette|Heidelberg|Amherst|Honolulu|New Haven|Paris|Riverside|Matsuyama|Tucson|Pasadena|CA|NM|MA|MA|HI|CT|CA|Ehime|AZ|CA|USA|USA|USA|France|Germany|USA|USA|USA|France|USA|Japan|USA|USA|\n",
      "|WOS:000257661900001|2008    |[Spitzer Sci Ctr, Pasadena, CA 91125 USA, Natl Radio Astron Observ, Socorro, NM 87801 USA, Harvard Smithsonian Ctr Astrophys, Cambridge, MA 02138 USA, Univ Paris 07, UMR 7158, Ctr Etud Saclay,AIM, CNRS,Unite Mixte Rech CEA, F-91191 Gif Sur Yvette, France, Max Planck Inst Astron, D-69117 Heidelberg, Germany, Univ Massachusetts, Dept Astron, Amherst, MA 01003 USA, Univ Hawaii, Inst Astron, Honolulu, HI 96822 USA, Yale Univ, Dept Astron, New Haven, CT 06511 USA, Univ Paris 06, CNRS, UMR 7095, Inst Astrophys, F-75014 Paris, France, Univ Calif Riverside, Dept Phys & Astron, Riverside, CA 92521 USA, Ehime Univ, Res Ctr Space & Cosm Evolut, Matsuyama, Ehime 7908577, Japan, Univ Arizona, Large Binocular Telescope Observ, Tucson, AZ 85721 USA, 105 24 Caltech, Pasadena, CA 91125 USA]|[Pasadena, Socorro, Cambridge, Gif Sur Yvette, Heidelberg, Amherst, Honolulu, New Haven, Paris, Riverside, Matsuyama, Tucson, Pasadena]|[CA, NM, MA,,, MA, HI, CT,, CA, Ehime, AZ, CA]|[USA, USA, USA, France, Germany, USA, USA, USA, France, USA, Japan, USA, USA]|[Univ Arizona, University of Arizona]                                                                                                                                                                                |[, Y]               |Univ Arizona;University of Arizona                                                                                                                                                                           |Spitzer Sci Ctr, Pasadena, CA 91125 USA|Natl Radio Astron Observ, Socorro, NM 87801 USA|Harvard Smithsonian Ctr Astrophys, Cambridge, MA 02138 USA|Univ Paris 07, UMR 7158, Ctr Etud Saclay,AIM, CNRS,Unite Mixte Rech CEA, F-91191 Gif Sur Yvette, France|Max Planck Inst Astron, D-69117 Heidelberg, Germany|Univ Massachusetts, Dept Astron, Amherst, MA 01003 USA|Univ Hawaii, Inst Astron, Honolulu, HI 96822 USA|Yale Univ, Dept Astron, New Haven, CT 06511 USA|Univ Paris 06, CNRS, UMR 7095, Inst Astrophys, F-75014 Paris, France|Univ Calif Riverside, Dept Phys & Astron, Riverside, CA 92521 USA|Ehime Univ, Res Ctr Space & Cosm Evolut, Matsuyama, Ehime 7908577, Japan|Univ Arizona, Large Binocular Telescope Observ, Tucson, AZ 85721 USA|105 24 Caltech, Pasadena, CA 91125 USA|Pasadena|Socorro|Cambridge|Gif Sur Yvette|Heidelberg|Amherst|Honolulu|New Haven|Paris|Riverside|Matsuyama|Tucson|Pasadena|CA|NM|MA|MA|HI|CT|CA|Ehime|AZ|CA|USA|USA|USA|France|Germany|USA|USA|USA|France|USA|Japan|USA|USA|\n",
      "|WOS:000257661900001|2008    |[Spitzer Sci Ctr, Pasadena, CA 91125 USA, Natl Radio Astron Observ, Socorro, NM 87801 USA, Harvard Smithsonian Ctr Astrophys, Cambridge, MA 02138 USA, Univ Paris 07, UMR 7158, Ctr Etud Saclay,AIM, CNRS,Unite Mixte Rech CEA, F-91191 Gif Sur Yvette, France, Max Planck Inst Astron, D-69117 Heidelberg, Germany, Univ Massachusetts, Dept Astron, Amherst, MA 01003 USA, Univ Hawaii, Inst Astron, Honolulu, HI 96822 USA, Yale Univ, Dept Astron, New Haven, CT 06511 USA, Univ Paris 06, CNRS, UMR 7095, Inst Astrophys, F-75014 Paris, France, Univ Calif Riverside, Dept Phys & Astron, Riverside, CA 92521 USA, Ehime Univ, Res Ctr Space & Cosm Evolut, Matsuyama, Ehime 7908577, Japan, Univ Arizona, Large Binocular Telescope Observ, Tucson, AZ 85721 USA, 105 24 Caltech, Pasadena, CA 91125 USA]|[Pasadena, Socorro, Cambridge, Gif Sur Yvette, Heidelberg, Amherst, Honolulu, New Haven, Paris, Riverside, Matsuyama, Tucson, Pasadena]|[CA, NM, MA,,, MA, HI, CT,, CA, Ehime, AZ, CA]|[USA, USA, USA, France, Germany, USA, USA, USA, France, USA, Japan, USA, USA]|[105 24 Caltech, California Institute of Technology]                                                                                                                                                                 |[, Y]               |105 24 Caltech;California Institute of Technology                                                                                                                                                            |Spitzer Sci Ctr, Pasadena, CA 91125 USA|Natl Radio Astron Observ, Socorro, NM 87801 USA|Harvard Smithsonian Ctr Astrophys, Cambridge, MA 02138 USA|Univ Paris 07, UMR 7158, Ctr Etud Saclay,AIM, CNRS,Unite Mixte Rech CEA, F-91191 Gif Sur Yvette, France|Max Planck Inst Astron, D-69117 Heidelberg, Germany|Univ Massachusetts, Dept Astron, Amherst, MA 01003 USA|Univ Hawaii, Inst Astron, Honolulu, HI 96822 USA|Yale Univ, Dept Astron, New Haven, CT 06511 USA|Univ Paris 06, CNRS, UMR 7095, Inst Astrophys, F-75014 Paris, France|Univ Calif Riverside, Dept Phys & Astron, Riverside, CA 92521 USA|Ehime Univ, Res Ctr Space & Cosm Evolut, Matsuyama, Ehime 7908577, Japan|Univ Arizona, Large Binocular Telescope Observ, Tucson, AZ 85721 USA|105 24 Caltech, Pasadena, CA 91125 USA|Pasadena|Socorro|Cambridge|Gif Sur Yvette|Heidelberg|Amherst|Honolulu|New Haven|Paris|Riverside|Matsuyama|Tucson|Pasadena|CA|NM|MA|MA|HI|CT|CA|Ehime|AZ|CA|USA|USA|USA|France|Germany|USA|USA|USA|France|USA|Japan|USA|USA|\n",
      "+-------------------+--------+----------------------------------------------------------------------------------------------------------------------------------------------------------------------------------------------------------------------------------------------------------------------------------------------------------------------------------------------------------------------------------------------------------------------------------------------------------------------------------------------------------------------------------------------------------------------------------------------------------------------------------------------------------------------------------------------------------------------------------------------------------------------------------------------------------------+---------------------------------------------------------------------------------------------------------------------------------------+----------------------------------------------+-----------------------------------------------------------------------------+---------------------------------------------------------------------------------------------------------------------------------------------------------------------------------------------------------------------+--------------------+-------------------------------------------------------------------------------------------------------------------------------------------------------------------------------------------------------------+--------------------------------------------------------------------------------------------------------------------------------------------------------------------------------------------------------------------------------------------------------------------------------------------------------------------------------------------------------------------------------------------------------------------------------------------------------------------------------------------------------------------------------------------------------------------------------------------------------------------------------------------------------------------------------------------------------------------------------------------------------------------------------------------------+-------------------------------------------------------------------------------------------------------------------------+--------------------------------+---------------------------------------------------------------+\n",
      "\n"
     ]
    },
    {
     "data": {
      "text/plain": [
       "UIDinstEnhanced2 = [UID: string, _pubyear: bigint ... 11 more fields]\n"
      ]
     },
     "metadata": {},
     "output_type": "display_data",
     "source": "user"
    },
    {
     "data": {
      "text/plain": [
       "[UID: string, _pubyear: bigint ... 11 more fields]"
      ]
     },
     "execution_count": 8,
     "metadata": {},
     "output_type": "execute_result"
    }
   ],
   "source": [
    "val UIDinstEnhanced2 = UIDinstEnhanced.withColumn(\"institution\", array_join($\"_VALUE\", \";\"))\n",
    "                                      .withColumn(\"full_addresses\", array_join($\"full_address\", \"|\"))\n",
    "                                      .withColumn(\"cities\", array_join($\"city\", \"|\"))\n",
    "                                      .withColumn(\"states\", array_join($\"state\", \"|\"))\n",
    "                                      .withColumn(\"countries\", array_join($\"country\", \"|\"))\n",
    "UIDinstEnhanced2.filter($\"UID\" === \"WOS:000257661900001\").show(false)"
   ]
  },
  {
   "cell_type": "code",
   "execution_count": 43,
   "metadata": {},
   "outputs": [
    {
     "data": {
      "text/plain": [
       "Name: org.apache.spark.SparkException\n",
       "Message: Job 78 cancelled as part of cancellation of all jobs\n",
       "StackTrace:   at org.apache.spark.scheduler.DAGScheduler.org$apache$spark$scheduler$DAGScheduler$$failJobAndIndependentStages(DAGScheduler.scala:1890)\n",
       "  at org.apache.spark.scheduler.DAGScheduler.handleJobCancellation(DAGScheduler.scala:1825)\n",
       "  at org.apache.spark.scheduler.DAGScheduler$$anonfun$doCancelAllJobs$1.apply$mcVI$sp(DAGScheduler.scala:833)\n",
       "  at org.apache.spark.scheduler.DAGScheduler$$anonfun$doCancelAllJobs$1.apply(DAGScheduler.scala:833)\n",
       "  at org.apache.spark.scheduler.DAGScheduler$$anonfun$doCancelAllJobs$1.apply(DAGScheduler.scala:833)\n",
       "  at scala.collection.mutable.HashSet.foreach(HashSet.scala:78)\n",
       "  at org.apache.spark.scheduler.DAGScheduler.doCancelAllJobs(DAGScheduler.scala:833)\n",
       "  at org.apache.spark.scheduler.DAGSchedulerEventProcessLoop.doOnReceive(DAGScheduler.scala:2083)\n",
       "  at org.apache.spark.scheduler.DAGSchedulerEventProcessLoop.onReceive(DAGScheduler.scala:2060)\n",
       "  at org.apache.spark.scheduler.DAGSchedulerEventProcessLoop.onReceive(DAGScheduler.scala:2049)\n",
       "  at org.apache.spark.util.EventLoop$$anon$1.run(EventLoop.scala:49)\n",
       "  at org.apache.spark.scheduler.DAGScheduler.runJob(DAGScheduler.scala:740)\n",
       "  at org.apache.spark.SparkContext.runJob(SparkContext.scala:2081)\n",
       "  at org.apache.spark.SparkContext.runJob(SparkContext.scala:2102)\n",
       "  at org.apache.spark.SparkContext.runJob(SparkContext.scala:2121)\n",
       "  at org.apache.spark.SparkContext.runJob(SparkContext.scala:2146)\n",
       "  at org.apache.spark.rdd.RDD$$anonfun$collect$1.apply(RDD.scala:945)\n",
       "  at org.apache.spark.rdd.RDDOperationScope$.withScope(RDDOperationScope.scala:151)\n",
       "  at org.apache.spark.rdd.RDDOperationScope$.withScope(RDDOperationScope.scala:112)\n",
       "  at org.apache.spark.rdd.RDD.withScope(RDD.scala:363)\n",
       "  at org.apache.spark.rdd.RDD.collect(RDD.scala:944)\n",
       "  at org.apache.spark.sql.execution.stat.StatFunctions$.aggResult$lzycompute$1(StatFunctions.scala:273)\n",
       "  at org.apache.spark.sql.execution.stat.StatFunctions$.org$apache$spark$sql$execution$stat$StatFunctions$$aggResult$1(StatFunctions.scala:273)\n",
       "  at org.apache.spark.sql.execution.stat.StatFunctions$$anonfun$summary$2.apply$mcVI$sp(StatFunctions.scala:286)\n",
       "  at scala.collection.immutable.Range.foreach$mVc$sp(Range.scala:160)\n",
       "  at org.apache.spark.sql.execution.stat.StatFunctions$.summary(StatFunctions.scala:285)\n",
       "  at org.apache.spark.sql.Dataset.summary(Dataset.scala:2533)\n",
       "  at org.apache.spark.sql.Dataset.describe(Dataset.scala:2472)"
      ]
     },
     "execution_count": 43,
     "metadata": {},
     "output_type": "execute_result"
    }
   ],
   "source": [
    "val instEnhanced = UIDinstEnhanced2.groupBy(\"_VALUE\").agg(concat_ws(\";\", collect_list(\"UID\")) as \"paperList\",\n",
    "                                                         concat_ws(\";\", collect_list(\"full_addresses\")) as \"full_addresses\",\n",
    "                                                         concat_ws(\";\", collect_list(\"cities\")) as \"cities\",\n",
    "                                                         concat_ws(\";\", collect_list(\"states\")) as \"states\",\n",
    "                                                         concat_ws(\";\", collect_list(\"countries\")) as \"countries\",\n",
    "                                                         countDistinct(\"UID\") as \"paperCount\").cache()\n",
    "instEnhanced.describe().filter($\"summary\" === \"count\").show\n",
    "//distribution by paper counts per institution, and fitler the lower ones , rough estimate 20k\n",
    "//compare city, state, country with instEnhanced\n",
    "//check see if large institiutions over mulitple sites like Max Planck Inst, Chinese Acad Med Sci, POLISH ACAD SCI, Polish Academy of Sciences, see how institution enhancement is done"
   ]
  },
  {
   "cell_type": "code",
   "execution_count": 34,
   "metadata": {},
   "outputs": [
    {
     "name": "stdout",
     "output_type": "stream",
     "text": [
      "+--------------------+--------------------+--------------------+--------------------+------+--------------------+----------+\n",
      "|              _VALUE|           paperList|      full_addresses|              cities|states|           countries|paperCount|\n",
      "+--------------------+--------------------+--------------------+--------------------+------+--------------------+----------+\n",
      "|[Polish Acad, Pol...| WOS:000257197001284|Ctr Med Expt, Ins...|       Prague|Warsaw|      |Czech Republic|Po...|         1|\n",
      "|[Polish Acad, Hir...|WOS:0002790513021...|Polish Acad, Ludw...|Wroclaw|Wroclaw|W...|     ;|Poland|Poland|Pol...|         2|\n",
      "+--------------------+--------------------+--------------------+--------------------+------+--------------------+----------+\n",
      "\n"
     ]
    },
    {
     "data": {
      "text/plain": [
       "lastException: Throwable = null\n"
      ]
     },
     "metadata": {},
     "output_type": "display_data",
     "source": "user"
    }
   ],
   "source": [
    "instEnhanced.filter(array_contains($\"_VALUE\",\"Polish Acad\")).show()"
   ]
  },
  {
   "cell_type": "code",
   "execution_count": 24,
   "metadata": {},
   "outputs": [
    {
     "name": "stdout",
     "output_type": "stream",
     "text": [
      "+-------+---------+----------+-----------+\n",
      "|summary|paperList|paperCount|institution|\n",
      "+-------+---------+----------+-----------+\n",
      "|  count|   968957|    968957|     968957|\n",
      "+-------+---------+----------+-----------+\n",
      "\n"
     ]
    },
    {
     "data": {
      "text/plain": [
       "instCompact = [_VALUE: array<string>, paperList: string ... 2 more fields]\n"
      ]
     },
     "metadata": {},
     "output_type": "display_data",
     "source": "user"
    },
    {
     "data": {
      "text/plain": [
       "[_VALUE: array<string>, paperList: string ... 2 more fields]"
      ]
     },
     "execution_count": 24,
     "metadata": {},
     "output_type": "execute_result"
    }
   ],
   "source": [
    "val instCompact = UIDinstEnhanced2.groupBy(\"_VALUE\").agg(concat_ws(\";\", collect_list(distinct \"UID\")) as \"paperList\",\n",
    "                                                         countDistinct(\"UID\") as \"paperCount\")\n",
    "                                                    .withColumn(\"institution\", array_join($\"_VALUE\", \";\")).cache()\n",
    "instCompact.describe().filter($\"summary\" === \"count\").show"
   ]
  },
  {
   "cell_type": "code",
   "execution_count": 26,
   "metadata": {},
   "outputs": [
    {
     "name": "stdout",
     "output_type": "stream",
     "text": [
      "+--------------------+--------------------+----------+--------------------+\n",
      "|              _VALUE|           paperList|paperCount|         institution|\n",
      "+--------------------+--------------------+----------+--------------------+\n",
      "|[Max Planck Inst ...|WOS:0000855248000...|      9248|Max Planck Inst E...|\n",
      "|[Max Planck Inst ...|WOS:0001699436000...|      7317|Max Planck Inst A...|\n",
      "|[Max Planck Inst ...|WOS:0001756380000...|      7288|Max Planck Inst P...|\n",
      "|[Max Planck Inst ...|WOS:0001689318000...|      6954|Max Planck Inst B...|\n",
      "|[Max Planck Inst ...|WOS:0001722977000...|      6539|Max Planck Inst B...|\n",
      "|[Max Planck Inst ...|WOS:0000864894000...|      6084|Max Planck Inst K...|\n",
      "|[Max Planck Inst ...|WOS:0001694093000...|      5920|Max Planck Inst F...|\n",
      "|[Max Planck Inst ...|WOS:0001767524000...|      5878|Max Planck Inst A...|\n",
      "|[Max Planck Inst ...|WOS:0001665096000...|      5748|Max Planck Inst C...|\n",
      "|[Max Planck Inst ...|WOS:0001656460000...|      5248|Max Planck Inst P...|\n",
      "|[Max Planck Inst ...|WOS:0000761863000...|      5246|Max Planck Inst P...|\n",
      "|[Max Planck Inst ...|WOS:0001710882000...|      5186|Max Planck Inst R...|\n",
      "|[Max Planck Inst ...|WOS:0001687780000...|      5024|Max Planck Inst P...|\n",
      "|[Max Planck Gesel...|WOS:0001703021000...|      4976|Max Planck Gesell...|\n",
      "|[MAX PLANCK INST ...|WOS:A1987L0426000...|      4718|MAX PLANCK INST B...|\n",
      "|[Max Planck Inst ...|WOS:0000816375000...|      4658|Max Planck Inst C...|\n",
      "|[Max Planck Inst ...|WOS:0000886794000...|      4508|Max Planck Inst E...|\n",
      "|[Max Planck Inst ...|WOS:0001678105000...|      4258|Max Planck Inst M...|\n",
      "|[Max Planck Inst ...|WOS:0001723135000...|      4219|Max Planck Inst P...|\n",
      "|[Max Planck Inst ...|WOS:0001806568000...|      3780|Max Planck Inst Q...|\n",
      "|[MAX PLANCK INST ...|WOS:A1983QX432001...|      3762|MAX PLANCK INST F...|\n",
      "|[MAX PLANCK INST ...|WOS:A1986C0403000...|      3624|MAX PLANCK INST B...|\n",
      "|[Max Planck Inst ...|WOS:0002412785000...|      3394|Max Planck Inst H...|\n",
      "|[Max Planck Inst ...|WOS:0001721149000...|      3391|Max Planck Inst K...|\n",
      "|[Max Planck Inst ...|WOS:0001729398000...|      3220|Max Planck Inst S...|\n",
      "|[Max Planck Inst ...|WOS:0001719640000...|      3216|Max Planck Inst I...|\n",
      "|[Max Planck Inst ...|WOS:0002214889000...|      2843|Max Planck Inst E...|\n",
      "|[Max Planck Inst ...|WOS:0001726853000...|      2830|Max Planck Inst M...|\n",
      "|[Max Planck Inst ...|WOS:0000853746000...|      2779|Max Planck Inst M...|\n",
      "|[MAX PLANCK INST ...|WOS:A1975W0458002...|      2709|MAX PLANCK INST P...|\n",
      "|[Max Planck Inst ...|WOS:0001723725009...|      2642|Max Planck Inst M...|\n",
      "|[Max Planck Inst ...|WOS:0002079104005...|      2613|Max Planck Inst B...|\n",
      "|[Max Planck Inst ...|WOS:0000869759000...|      2578|Max Planck Inst C...|\n",
      "|[Max Planck Inst ...|WOS:0001726369000...|      2576|Max Planck Inst M...|\n",
      "|[MAX PLANCK INST ...|WOS:A1984TZ619000...|      2552|MAX PLANCK INST P...|\n",
      "|[Max Planck Inst ...|WOS:0001715497000...|      2482|Max Planck Inst P...|\n",
      "|[EURATOM, Euratom...|WOS:0001741679000...|      2389|EURATOM;Euratom;M...|\n",
      "|[Max Planck Inst ...|WOS:0001662432000...|      2343|Max Planck Inst E...|\n",
      "|[Max Planck Inst ...|WOS:0001698668000...|      2333|Max Planck Inst H...|\n",
      "|[Max Planck Inst ...|WOS:0001694559000...|      2219|Max Planck Inst B...|\n",
      "|[Max Planck Inst ...|WOS:0001810473000...|      2216|Max Planck Inst M...|\n",
      "|[Max Planck Inst ...|WOS:0001814996002...|      2162|Max Planck Inst C...|\n",
      "|[Max Planck Inst ...|WOS:0001681599000...|      2068|Max Planck Inst G...|\n",
      "|[Max Planck Inst ...|WOS:0002267214003...|      1986|Max Planck Inst O...|\n",
      "|[Max Planck Inst ...|WOS:0002983638000...|      1983|Max Planck Inst I...|\n",
      "|[Max Planck Inst ...|WOS:0000848109000...|      1962|Max Planck Inst M...|\n",
      "|[Max Planck Inst,...|WOS:0001718950007...|      1921|Max Planck Inst;M...|\n",
      "|[Albert Einstein ...|WOS:0001683990000...|      1917|Albert Einstein I...|\n",
      "|[Max Planck Inst ...|WOS:0001734976000...|      1907|Max Planck Inst M...|\n",
      "|[Max Planck Inst ...|WOS:0002279463000...|      1903|Max Planck Inst S...|\n",
      "+--------------------+--------------------+----------+--------------------+\n",
      "only showing top 50 rows\n",
      "\n"
     ]
    }
   ],
   "source": [
    "instCompact.filter($\"institution\".contains(\"Max Planck\")).orderBy($\"paperCount\".desc).show(50)"
   ]
  },
  {
   "cell_type": "code",
   "execution_count": 28,
   "metadata": {},
   "outputs": [
    {
     "name": "stdout",
     "output_type": "stream",
     "text": [
      "+-------+---------+----------+-----------+\n",
      "|summary|paperList|paperCount|institution|\n",
      "+-------+---------+----------+-----------+\n",
      "|  count|     5805|      5805|       5805|\n",
      "+-------+---------+----------+-----------+\n",
      "\n"
     ]
    },
    {
     "data": {
      "text/plain": [
       "instFiltered = [_VALUE: array<string>, paperList: string ... 2 more fields]\n"
      ]
     },
     "metadata": {},
     "output_type": "display_data",
     "source": "user"
    },
    {
     "data": {
      "text/plain": [
       "[_VALUE: array<string>, paperList: string ... 2 more fields]"
      ]
     },
     "execution_count": 28,
     "metadata": {},
     "output_type": "execute_result"
    }
   ],
   "source": [
    "val instFiltered = instCompact.filter($\"paperCount\" > 2000).orderBy($\"paperCount\".desc)\n",
    "instFiltered.describe().filter($\"summary\" === \"count\").show"
   ]
  },
  {
   "cell_type": "code",
   "execution_count": 32,
   "metadata": {},
   "outputs": [],
   "source": [
    "import org.apache.spark.sql.SaveMode\n",
    "instFiltered.select(\"institution\",\"paperCount\",\"paperList\").write.mode(SaveMode.Overwrite)\n",
    ".parquet(\"/data1/WoSinstEnhanced/instCompact/\")"
   ]
  },
  {
   "cell_type": "code",
   "execution_count": 31,
   "metadata": {},
   "outputs": [],
   "source": [
    "instFiltered.select(\"institution\",\"paperCount\").coalesce(1).write.mode(SaveMode.Overwrite)\n",
    "    .format(\"com.databricks.spark.csv\")\n",
    "    .option(\"header\", \"true\")//.option(\"compression\", \"gzip\")\n",
    "    .save(\"/data1/WoSinstEnhanced/instCompact/CSV/\")"
   ]
  },
  {
   "cell_type": "code",
   "execution_count": 35,
   "metadata": {},
   "outputs": [
    {
     "name": "stdout",
     "output_type": "stream",
     "text": [
      "+-------------------+--------------------+--------+--------------------+-------------+---------+-------------+--------------------+--------------------+\n",
      "|                UID|              titles|_pubyear|        organization|         city|    state|      country|        full_address|             journal|\n",
      "+-------------------+--------------------+--------+--------------------+-------------+---------+-------------+--------------------+--------------------+\n",
      "|WOS:A1985AUK0600019|[6, [[CLINICA CHI...|    1985|                null|         null|     null|         null|                null|CLINICA CHIMICA ACTA|\n",
      "|WOS:A1985ATW9400035|[6, [[INSULA-REVI...|    1985|                null|         null|     null|         null|                null|INSULA-REVISTA DE...|\n",
      "|WOS:A1985AHR7600027|[6, [[ELECTRONICS...|    1985|                null|         null|     null|         null|                null| ELECTRONICS LETTERS|\n",
      "|WOS:A1985AJM7300014|[5, [[ACTA MORPHO...|    1985|[[[STATE UNIV UTR...|    [UTRECHT]|       []|[NETHERLANDS]|[STATE UNIV UTREC...|ACTA MORPHOLOGICA...|\n",
      "|WOS:A1985APH5500026|[6, [[AIAA JOURNA...|    1985|                null|         null|     null|         null|                null|        AIAA JOURNAL|\n",
      "|WOS:A1985AAK3200005|[6, [[CRYOGENICS,...|    1985|                null|         null|     null|         null|                null|          CRYOGENICS|\n",
      "|WOS:A1985AVL2400004|[6, [[THIN SOLID ...|    1985|                null|         null|     null|         null|                null|    THIN SOLID FILMS|\n",
      "|WOS:A1985AVR2500014|[6, [[MEDICAL EDU...|    1985|[[[CAMBRIDGE UNIV...|  [CAMBRIDGE]|       []|    [ENGLAND]|[CAMBRIDGE UNIV,A...|   MEDICAL EDUCATION|\n",
      "|WOS:A1985APD6100014|[6, [[SOCIOLOGY-T...|    1985|                null|         null|     null|         null|                null|SOCIOLOGY-THE JOU...|\n",
      "|WOS:A1985AUK6500034|[6, [[FRENCH STUD...|    1985|                null|         null|     null|         null|                null|      FRENCH STUDIES|\n",
      "|WOS:A1985ADG8200012|[5, [[STAIN TECHN...|    1985|[[[UNIV MONTPELLI...|[MONTPELLIER]|       []|     [FRANCE]|[UNIV MONTPELLIER...|    STAIN TECHNOLOGY|\n",
      "|WOS:A1985ASX7400138|[5, [[BULLETIN OF...|    1985|[[[UNIV TEXAS,], ...|  [ARLINGTON]|     [TX]|        [USA]|[UNIV TEXAS,ARLIN...|BULLETIN OF THE P...|\n",
      "|WOS:A1985ABZ8800004|[6, [[ORIENTAL AR...|    1985|                null|         null|     null|         null|                null|        ORIENTAL ART|\n",
      "|WOS:A1985AWJ3900005|[5, [[PROCEEDINGS...|    1985|                null|         null|     null|         null|                null|PROCEEDINGS OF TH...|\n",
      "|WOS:A1985ASZ2000001|[5, [[REAL ESTATE...|    1985|                null|         null|     null|         null|                null|  REAL ESTATE REVIEW|\n",
      "|WOS:A1985AJE7100045|[6, [[FOLIA PHARM...|    1985|                null|         null|     null|         null|                null|FOLIA PHARMACOLOG...|\n",
      "|WOS:A1985ABJ4000121|[6, [[VETERINARY ...|    1985|[[[UNIV GUELPH,],...|     [GUELPH]|[ONTARIO]|     [CANADA]|[UNIV GUELPH,GUEL...|  VETERINARY SURGERY|\n",
      "|WOS:A1985AAS0100007|[6, [[EXPERIMENTA...|    1985|[[[QUEENS UNIV,],...|   [KINGSTON]|[ONTARIO]|     [CANADA]|[QUEENS UNIV,DEPT...|EXPERIMENTAL BRAI...|\n",
      "|WOS:A1985AGQ4300016|[6, [[PEDIATRIC R...|    1985|[[[TRIPLER ARMY M...|   [HONOLULU]|     [HI]|        [USA]|[TRIPLER ARMY MED...| PEDIATRIC RADIOLOGY|\n",
      "|WOS:A1985AWQ6000022|[6, [[JOURNAL OF ...|    1985|                null|         null|     null|         null|                null|JOURNAL OF ECONOM...|\n",
      "+-------------------+--------------------+--------+--------------------+-------------+---------+-------------+--------------------+--------------------+\n",
      "only showing top 20 rows\n",
      "\n"
     ]
    },
    {
     "data": {
      "text/plain": [
       "cityJ3 = [UID: string, titles: struct<_count: bigint, title: array<struct<_VALUE:string,_translated:string,_type:string>>> ... 7 more fields]\n"
      ]
     },
     "metadata": {},
     "output_type": "display_data",
     "source": "user"
    },
    {
     "data": {
      "text/plain": [
       "getTitle: (_type: String)org.apache.spark.sql.expressions.UserDefinedFunction\n"
      ]
     },
     "metadata": {},
     "output_type": "display_data",
     "source": "user"
    },
    {
     "data": {
      "text/plain": [
       "[UID: string, titles: struct<_count: bigint, title: array<struct<_VALUE:string,_translated:string,_type:string>>> ... 7 more fields]"
      ]
     },
     "execution_count": 35,
     "metadata": {},
     "output_type": "execute_result"
    }
   ],
   "source": [
    "import scala.util.Try\n",
    "import org.apache.hadoop.fs._\n",
    "import org.apache.spark.sql.Row\n",
    "\n",
    "def getTitle(_type: String) = { \n",
    "  udf((row: Seq[Row]) =>\n",
    "    row.map(r => (r.getString(0), r.getString(1), r.getString(2)))\n",
    "      .find { case (_, _, s) => s == _type}\n",
    "      .map(_._1)\n",
    "      .orElse(None)\n",
    "  )\n",
    "}\n",
    "\n",
    "val cityJ3 = cityJ.withColumn(\"journal\", when(col(\"titles.title\").isNotNull, getTitle(\"source\")($\"titles.title\")).otherwise(lit(null)))\n",
    "cityJ3.show"
   ]
  },
  {
   "cell_type": "code",
   "execution_count": 36,
   "metadata": {
    "scrolled": true
   },
   "outputs": [
    {
     "name": "stdout",
     "output_type": "stream",
     "text": [
      "+-------------------+-------------------------------------------------------------+\n",
      "|UID                |cityFull                                                     |\n",
      "+-------------------+-------------------------------------------------------------+\n",
      "|WOS:A1985AUK0600019|[[city,], [state,], [country,]]                              |\n",
      "|WOS:A1985ATW9400035|[[city,], [state,], [country,]]                              |\n",
      "|WOS:A1985AHR7600027|[[city,], [state,], [country,]]                              |\n",
      "|WOS:A1985AJM7300014|[[city, [UTRECHT]], [state, []], [country, [NETHERLANDS]]]   |\n",
      "|WOS:A1985APH5500026|[[city,], [state,], [country,]]                              |\n",
      "|WOS:A1985AAK3200005|[[city,], [state,], [country,]]                              |\n",
      "|WOS:A1985AVL2400004|[[city,], [state,], [country,]]                              |\n",
      "|WOS:A1985AVR2500014|[[city, [CAMBRIDGE]], [state, []], [country, [ENGLAND]]]     |\n",
      "|WOS:A1985APD6100014|[[city,], [state,], [country,]]                              |\n",
      "|WOS:A1985AUK6500034|[[city,], [state,], [country,]]                              |\n",
      "|WOS:A1985ADG8200012|[[city, [MONTPELLIER]], [state, []], [country, [FRANCE]]]    |\n",
      "|WOS:A1985ASX7400138|[[city, [ARLINGTON]], [state, [TX]], [country, [USA]]]       |\n",
      "|WOS:A1985ABZ8800004|[[city,], [state,], [country,]]                              |\n",
      "|WOS:A1985AWJ3900005|[[city,], [state,], [country,]]                              |\n",
      "|WOS:A1985ASZ2000001|[[city,], [state,], [country,]]                              |\n",
      "|WOS:A1985AJE7100045|[[city,], [state,], [country,]]                              |\n",
      "|WOS:A1985ABJ4000121|[[city, [GUELPH]], [state, [ONTARIO]], [country, [CANADA]]]  |\n",
      "|WOS:A1985AAS0100007|[[city, [KINGSTON]], [state, [ONTARIO]], [country, [CANADA]]]|\n",
      "|WOS:A1985AGQ4300016|[[city, [HONOLULU]], [state, [HI]], [country, [USA]]]        |\n",
      "|WOS:A1985AWQ6000022|[[city,], [state,], [country,]]                              |\n",
      "+-------------------+-------------------------------------------------------------+\n",
      "only showing top 20 rows\n",
      "\n"
     ]
    },
    {
     "data": {
      "text/plain": [
       "cols = Array(city, state, country)\n",
       "cityJ4 = [UID: string, cityFull: array<struct<name:string,value:array<string>>>]\n"
      ]
     },
     "metadata": {},
     "output_type": "display_data",
     "source": "user"
    },
    {
     "data": {
      "text/plain": [
       "[UID: string, cityFull: array<struct<name:string,value:array<string>>>]"
      ]
     },
     "execution_count": 36,
     "metadata": {},
     "output_type": "execute_result"
    }
   ],
   "source": [
    "val cols = cityJ3.select(\"UID\", \"city\", \"state\", \"country\").columns.filter(_ != \"UID\")\n",
    "\n",
    "val cityJ4 = cols.\n",
    "  foldLeft(cityJ3)( (accDF, c) => \n",
    "    accDF.withColumn(c, struct(lit(c).as(\"name\"), col(c).as(\"value\")))\n",
    "  ).\n",
    "  select($\"UID\", array(cols.map(col): _*).as(\"cityFull\"))\n",
    "\n",
    "cityJ4.show(false)"
   ]
  },
  {
   "cell_type": "code",
   "execution_count": 37,
   "metadata": {},
   "outputs": [
    {
     "name": "stdout",
     "output_type": "stream",
     "text": [
      "+-------------------+----------------------------------------------------------------------------------------------------------------------------------------------------------------------------------------------------------------------------------------------------------------------------------------------------------+--------+---------------------------------------------------------------------------------------------------------------------------------------------------+-------------+---------+-------------+-------------------------------------------------------------------------------------------------------+----------------------------------------------------------------------------------------------------+-----------------------------+\n",
      "|UID                |titles                                                                                                                                                                                                                                                                                                    |_pubyear|organization                                                                                                                                       |city         |state    |country      |full_address                                                                                           |journal                                                                                             |cityFull                     |\n",
      "+-------------------+----------------------------------------------------------------------------------------------------------------------------------------------------------------------------------------------------------------------------------------------------------------------------------------------------------+--------+---------------------------------------------------------------------------------------------------------------------------------------------------+-------------+---------+-------------+-------------------------------------------------------------------------------------------------------+----------------------------------------------------------------------------------------------------+-----------------------------+\n",
      "|WOS:A1985AUK0600019|[6, [[CLINICA CHIMICA ACTA,, source], [CLIN CHIM ACTA,, source_abbrev], [Clin. Chim. Acta,, abbrev_iso], [CLIN CHIM A,, abbrev_11], [CLIN CHIM ACTA,, abbrev_29], [SERUM FERRITIN IN TYPE-I DIABETES,, item]]]                                                                                            |1985    |null                                                                                                                                               |null         |null     |null         |null                                                                                                   |CLINICA CHIMICA ACTA                                                                                |null                         |\n",
      "|WOS:A1985ATW9400035|[6, [[INSULA-REVISTA DE LETRAS Y CIENCIAS HUMANAS,, source], [INSULA,, source_abbrev], [INSULA-Rev. Let. Cienc. Hum.,, abbrev_iso], [INSULA,, abbrev_11], [INSULA-REV LETRAS CIEN HUMAN,, abbrev_29], [6TH INTERNATIONAL FILM FESTIVAL OF MADRID,, item]]]                                                |1985    |null                                                                                                                                               |null         |null     |null         |null                                                                                                   |INSULA-REVISTA DE LETRAS Y CIENCIAS HUMANAS                                                         |null                         |\n",
      "|WOS:A1985AHR7600027|[6, [[ELECTRONICS LETTERS,, source], [ELECTRON LETT,, source_abbrev], [Electron. Lett.,, abbrev_iso], [ELECTR LETT,, abbrev_11], [ELECTRON LETT,, abbrev_29], [SELECTIVELY IMPLANTED OXYGEN ISOLATION TECHNOLOGY (SIO),, item]]]                                                                          |1985    |null                                                                                                                                               |null         |null     |null         |null                                                                                                   |ELECTRONICS LETTERS                                                                                 |null                         |\n",
      "|WOS:A1985AJM7300014|[5, [[ACTA MORPHOLOGICA NEERLANDO-SCANDINAVICA,, source], [ACTA MORPHOL NEER SC,, source_abbrev], [ACT MORPH N,, abbrev_11], [ACTA MORPHOL NEER SCAND,, abbrev_29], [REGRESSION OF THE RIGHT MULLERIAN DUCT IN THE FEMALE CHICK-EMBRYO,, item]]]                                                          |1985    |[[[STATE UNIV UTRECHT,], [Utrecht University, Y]]]                                                                                                 |[UTRECHT]    |[]       |[NETHERLANDS]|[STATE UNIV UTRECHT,DEPT ANAT & EMBRYOL,UTRECHT,NETHERLANDS]                                           |ACTA MORPHOLOGICA NEERLANDO-SCANDINAVICA                                                            |[[UTRECHT,, NETHERLANDS]]    |\n",
      "|WOS:A1985APH5500026|[6, [[AIAA JOURNAL,, source], [AIAA J,, source_abbrev], [AIAA J.,, abbrev_iso], [AIAA J,, abbrev_11], [AIAA J,, abbrev_29], [TIME FINITE-ELEMENT DISCRETIZATION OF HAMILTON LAW OF VARYING ACTION - COMMENT,, item]]]                                                                                     |1985    |null                                                                                                                                               |null         |null     |null         |null                                                                                                   |AIAA JOURNAL                                                                                        |null                         |\n",
      "|WOS:A1985AAK3200005|[6, [[CRYOGENICS,, source], [CRYOGENICS,, source_abbrev], [Cryogenics,, abbrev_iso], [CRYOGENICS,, abbrev_11], [CRYOGENICS,, abbrev_29], [MAGNETIC-FIELD MEASUREMENT WITHIN SUPERCONDUCTING WINDINGS BY CLTS TEMPERATURE SENSORS,, item]]]                                                                |1985    |null                                                                                                                                               |null         |null     |null         |null                                                                                                   |CRYOGENICS                                                                                          |null                         |\n",
      "|WOS:A1985AVL2400004|[6, [[THIN SOLID FILMS,, source], [THIN SOLID FILMS,, source_abbrev], [Thin Solid Films,, abbrev_iso], [THIN SOL FI,, abbrev_11], [THIN SOLID FILMS,, abbrev_29], [BAND-GAP ENERGY AND URBACH TAIL STUDIES OF AMORPHOUS, PARTIALLY CRYSTALLINE AND POLYCRYSTALLINE TIN DIOXIDE,, item]]]                  |1985    |null                                                                                                                                               |null         |null     |null         |null                                                                                                   |THIN SOLID FILMS                                                                                    |null                         |\n",
      "|WOS:A1985AVR2500014|[6, [[MEDICAL EDUCATION,, source], [MED EDUC,, source_abbrev], [Med. Educ.,, abbrev_iso], [MED EDUC,, abbrev_11], [MED EDUC,, abbrev_29], [EXAMINERS BELIEFS ABOUT THE UTILITY AND THE APPROPRIATENESS OF DIFFERENT EXAMINATION TECHNIQUES,, item]]]                                                      |1985    |[[[CAMBRIDGE UNIV,], [Addenbrooke's Hospital, Y], [University of Cambridge, Y]]]                                                                   |[CAMBRIDGE]  |[]       |[ENGLAND]    |[CAMBRIDGE UNIV,ADDENBROOKES HOSP,CLIN SCH,SCH CLIN MED,OFF REGIUS PROF PHYS,CAMBRIDGE CB2 2QQ,ENGLAND]|MEDICAL EDUCATION                                                                                   |[[CAMBRIDGE,, ENGLAND]]      |\n",
      "|WOS:A1985APD6100014|[6, [[SOCIOLOGY-THE JOURNAL OF THE BRITISH SOCIOLOGICAL ASSOCIATION,, source], [SOCIOLOGY,, source_abbrev], [Sociol.-J. Brit. Sociol. Assoc.,, abbrev_iso], [SOCIOLOGY,, abbrev_11], [SOCIOLOGY,, abbrev_29], [MAKING SOMETHING OF OURSELVES - MERELMAN,RM,, item]]]                                      |1985    |null                                                                                                                                               |null         |null     |null         |null                                                                                                   |SOCIOLOGY-THE JOURNAL OF THE BRITISH SOCIOLOGICAL ASSOCIATION                                       |null                         |\n",
      "|WOS:A1985AUK6500034|[6, [[FRENCH STUDIES,, source], [FR STUD,, source_abbrev], [Fr. Stud.,, abbrev_iso], [FR STUD,, abbrev_11], [FR STUD,, abbrev_29], [NATURE AND VALUES IN THE PHILOSOPHY OF MONTESQUIEU, A METHODICAL ANALYSIS OF THE IDEA OF RAPPORT IN 'ESPRIT DES LOIS' - FRENCH - BEYER,C,, item]]]                    |1985    |null                                                                                                                                               |null         |null     |null         |null                                                                                                   |FRENCH STUDIES                                                                                      |null                         |\n",
      "|WOS:A1985ADG8200012|[5, [[STAIN TECHNOLOGY,, source], [STAIN TECHNOL,, source_abbrev], [STAIN TECH,, abbrev_11], [STAIN TECHNOL,, abbrev_29], [A RAPID TECHNIQUE FOR OBTAINING AIR DRIED MITOTIC CHROMOSOMES FROM MOSQUITO EGG RAFTS,, item]]]                                                                                |1985    |[[[UNIV MONTPELLIER 2,], [PSL Research University Paris (ComUE), Y], [Ecole Pratique des Hautes Etudes (EPHE), Y], [Universite de Montpellier, Y]]]|[MONTPELLIER]|[]       |[FRANCE]     |[UNIV MONTPELLIER 2,ECOLE PRAT HAUTES ETUD,GENET ECOL LAB,F-34060 MONTPELLIER,FRANCE]                  |STAIN TECHNOLOGY                                                                                    |[[MONTPELLIER,, FRANCE]]     |\n",
      "|WOS:A1985ASX7400138|[5, [[BULLETIN OF THE PSYCHONOMIC SOCIETY,, source], [B PSYCHONOMIC SOC,, source_abbrev], [B PSYCHON S,, abbrev_11], [BULL PSYCHONOMIC SOC,, abbrev_29], [PERCEPTION OF SEXUAL ATTRACTIVENESS AND ATTITUDES TOWARDS PORNOGRAPHY,, item]]]                                                                 |1985    |[[[UNIV TEXAS,], [University of Texas System, Y], [University of Texas Arlington, Y]]]                                                             |[ARLINGTON]  |[TX]     |[USA]        |[UNIV TEXAS,ARLINGTON,TX 76019]                                                                        |BULLETIN OF THE PSYCHONOMIC SOCIETY                                                                 |[[ARLINGTON, TX, USA]]       |\n",
      "|WOS:A1985ABZ8800004|[6, [[ORIENTAL ART,, source], [ORIENTAL ART,, source_abbrev], [Orient. Art,, abbrev_iso], [ORIENT ART,, abbrev_11], [ORIENTAL ART,, abbrev_29], [ELEPHANTA, THE CAVE OF SHIVA - BERKSON,C, OFLAHERTY,WD, MICHELL,G,, item]]]                                                                              |1985    |null                                                                                                                                               |null         |null     |null         |null                                                                                                   |ORIENTAL ART                                                                                        |null                         |\n",
      "|WOS:A1985AWJ3900005|[5, [[PROCEEDINGS OF THE KONINKLIJKE NEDERLANDSE AKADEMIE VAN WETENSCHAPPEN SERIES A-MATHEMATICAL SCIENCES,, source], [P K NED AKAD A MATH,, source_abbrev], [P KON NED A,, abbrev_11], [PROC K NED AKAD WETENSCHAP A,, abbrev_29], [METRICAL RESULTS FOR THE NEAREST INTEGER CONTINUED-FRACTION,, item]]]|1985    |null                                                                                                                                               |null         |null     |null         |null                                                                                                   |PROCEEDINGS OF THE KONINKLIJKE NEDERLANDSE AKADEMIE VAN WETENSCHAPPEN SERIES A-MATHEMATICAL SCIENCES|null                         |\n",
      "|WOS:A1985ASZ2000001|[5, [[REAL ESTATE REVIEW,, source], [REAL ESTATE REV,, source_abbrev], [REAL EST R,, abbrev_11], [REAL ESTATE REV,, abbrev_29], [REAL-ESTATE TAX BENEFITS AND REFORMS - THE LONG VIEW,, item]]]                                                                                                           |1985    |null                                                                                                                                               |null         |null     |null         |null                                                                                                   |REAL ESTATE REVIEW                                                                                  |null                         |\n",
      "|WOS:A1985AJE7100045|[6, [[FOLIA PHARMACOLOGICA JAPONICA,, source], [FOLIA PHARMACOL JPN,, source_abbrev], [Folia Pharmacol. Jpn.,, abbrev_iso], [FOL PHARM J,, abbrev_11], [FOLIA PHARMACOL JPN,, abbrev_29], [EFFECT OF MELILOTUS EXTRACT ON THE MOTILITY OF THE MAMMALIAN GASTROINTESTINAL-TRACT,, item]]]                  |1985    |null                                                                                                                                               |null         |null     |null         |null                                                                                                   |FOLIA PHARMACOLOGICA JAPONICA                                                                       |null                         |\n",
      "|WOS:A1985ABJ4000121|[6, [[VETERINARY SURGERY,, source], [VET SURG,, source_abbrev], [Vet. Surg.,, abbrev_iso], [VET SURGERY,, abbrev_11], [VET SURGERY,, abbrev_29], [AVERSIVE-CONDITIONING USED TO TEST THE HUMANENESS OF A COMMERCIAL ELECTROIMMOBILIZATION UNIT IN CATTLE,, item]]]                                        |1985    |[[[UNIV GUELPH,], [University of Guelph, Y]]]                                                                                                      |[GUELPH]     |[ONTARIO]|[CANADA]     |[UNIV GUELPH,GUELPH N1G 2W1,ONTARIO,CANADA]                                                            |VETERINARY SURGERY                                                                                  |[[GUELPH, ONTARIO, CANADA]]  |\n",
      "|WOS:A1985AAS0100007|[6, [[EXPERIMENTAL BRAIN RESEARCH,, source], [EXP BRAIN RES,, source_abbrev], [Exp. Brain Res.,, abbrev_iso], [EXP BRAIN R,, abbrev_11], [EXP BRAIN RES,, abbrev_29], [CONVERGENCE OF SENSORY INPUTS IN SOMATOSENSORY CORTEX - INTERACTIONS FROM SEPARATE AFFERENT SOURCES,, item]]]                      |1985    |[[[QUEENS UNIV,], [Queens University - Canada, Y]]]                                                                                                |[KINGSTON]   |[ONTARIO]|[CANADA]     |[QUEENS UNIV,DEPT PHYSIOL,KINGSTON K7L 3N6,ONTARIO,CANADA]                                             |EXPERIMENTAL BRAIN RESEARCH                                                                         |[[KINGSTON, ONTARIO, CANADA]]|\n",
      "|WOS:A1985AGQ4300016|[6, [[PEDIATRIC RADIOLOGY,, source], [PEDIATR RADIOL,, source_abbrev], [Pediatr. Radiol.,, abbrev_iso], [PEDIAT RAD,, abbrev_11], [PEDIAT RADIOL,, abbrev_29], [TRACHEOESOPHAGEAL FISTULA - DIAGNOSIS WITH CT,, item]]]                                                                                   |1985    |[[[TRIPLER ARMY MED CTR,], [United States Department of Defense, Y], [United States Army, Y]]]                                                     |[HONOLULU]   |[HI]     |[USA]        |[TRIPLER ARMY MED CTR,DEPT PEDIAT,HONOLULU,HI 96859]                                                   |PEDIATRIC RADIOLOGY                                                                                 |[[HONOLULU, HI, USA]]        |\n",
      "|WOS:A1985AWQ6000022|[6, [[JOURNAL OF ECONOMIC ENTOMOLOGY,, source], [J ECON ENTOMOL,, source_abbrev], [J. Econ. Entomol.,, abbrev_iso], [J ECON ENT,, abbrev_11], [J ECON ENTOMOL,, abbrev_29], [SENSITIVITY OF BEAUVERIA-BASSIANA TO SELECTED HERBICIDES,, item]]]                                                           |1985    |null                                                                                                                                               |null         |null     |null         |null                                                                                                   |JOURNAL OF ECONOMIC ENTOMOLOGY                                                                      |null                         |\n",
      "+-------------------+----------------------------------------------------------------------------------------------------------------------------------------------------------------------------------------------------------------------------------------------------------------------------------------------------------+--------+---------------------------------------------------------------------------------------------------------------------------------------------------+-------------+---------+-------------+-------------------------------------------------------------------------------------------------------+----------------------------------------------------------------------------------------------------+-----------------------------+\n",
      "only showing top 20 rows\n",
      "\n"
     ]
    },
    {
     "data": {
      "text/plain": [
       "cityJ5 = [UID: string, titles: struct<_count: bigint, title: array<struct<_VALUE:string,_translated:string,_type:string>>> ... 8 more fields]\n"
      ]
     },
     "metadata": {},
     "output_type": "display_data",
     "source": "user"
    },
    {
     "data": {
      "text/plain": [
       "[UID: string, titles: struct<_count: bigint, title: array<struct<_VALUE:string,_translated:string,_type:string>>> ... 8 more fields]"
      ]
     },
     "execution_count": 37,
     "metadata": {},
     "output_type": "execute_result"
    }
   ],
   "source": [
    "import org.apache.spark.sql.functions.arrays_zip\n",
    "\n",
    "val cityJ5 = cityJ3.withColumn(\n",
    "  \"cityFull\", arrays_zip($\"city\", $\"state\", $\"country\")\n",
    ")\n",
    "\n",
    "cityJ5.show(false)"
   ]
  },
  {
   "cell_type": "code",
   "execution_count": 38,
   "metadata": {
    "scrolled": true
   },
   "outputs": [
    {
     "data": {
      "text/plain": [
       "cityJ6 = [UID: string, journal: string ... 3 more fields]\n",
       "cityJ7 = [UID: string, journal: string ... 4 more fields]\n"
      ]
     },
     "metadata": {},
     "output_type": "display_data",
     "source": "user"
    },
    {
     "data": {
      "text/plain": [
       "[UID: string, journal: string ... 4 more fields]"
      ]
     },
     "execution_count": 38,
     "metadata": {},
     "output_type": "execute_result"
    }
   ],
   "source": [
    "import org.apache.spark.sql.functions.{concat, lit}\n",
    "\n",
    "val cityJ6 = cityJ5.select($\"UID\",$\"journal\",explode($\"cityFull\")).select(\"UID\",\"journal\",\"col.city\",\"col.state\",\"col.country\").na.fill(\"\")\n",
    "val cityJ7 = cityJ6.withColumn(\n",
    "  \"cityFull\", concat($\"city\", lit(\" \"), $\"state\", lit(\" \"), $\"country\")\n",
    ")\n",
    "//val cityJ8 = cityJ7.groupBy(\"UID\").agg(collect_list(\"cityFull\") as \"cityFullList\", first(\"journal\") as \"journal\")\n",
    "//cityJ8.show(100,false)"
   ]
  },
  {
   "cell_type": "code",
   "execution_count": 45,
   "metadata": {},
   "outputs": [
    {
     "name": "stdout",
     "output_type": "stream",
     "text": [
      "+-------------------+-----------------------------+--------------+-----+-------+----------------------+\n",
      "|UID                |journal                      |city          |state|country|cityFull              |\n",
      "+-------------------+-----------------------------+--------------+-----+-------+----------------------+\n",
      "|WOS:000257661900001|ASTROPHYSICAL JOURNAL LETTERS|Pasadena      |CA   |USA    |Pasadena CA USA       |\n",
      "|WOS:000257661900001|ASTROPHYSICAL JOURNAL LETTERS|Socorro       |NM   |USA    |Socorro NM USA        |\n",
      "|WOS:000257661900001|ASTROPHYSICAL JOURNAL LETTERS|Cambridge     |MA   |USA    |Cambridge MA USA      |\n",
      "|WOS:000257661900001|ASTROPHYSICAL JOURNAL LETTERS|Gif Sur Yvette|     |France |Gif Sur Yvette  France|\n",
      "|WOS:000257661900001|ASTROPHYSICAL JOURNAL LETTERS|Heidelberg    |     |Germany|Heidelberg  Germany   |\n",
      "|WOS:000257661900001|ASTROPHYSICAL JOURNAL LETTERS|Amherst       |MA   |USA    |Amherst MA USA        |\n",
      "|WOS:000257661900001|ASTROPHYSICAL JOURNAL LETTERS|Honolulu      |HI   |USA    |Honolulu HI USA       |\n",
      "|WOS:000257661900001|ASTROPHYSICAL JOURNAL LETTERS|New Haven     |CT   |USA    |New Haven CT USA      |\n",
      "|WOS:000257661900001|ASTROPHYSICAL JOURNAL LETTERS|Paris         |     |France |Paris  France         |\n",
      "|WOS:000257661900001|ASTROPHYSICAL JOURNAL LETTERS|Riverside     |CA   |USA    |Riverside CA USA      |\n",
      "|WOS:000257661900001|ASTROPHYSICAL JOURNAL LETTERS|Matsuyama     |Ehime|Japan  |Matsuyama Ehime Japan |\n",
      "|WOS:000257661900001|ASTROPHYSICAL JOURNAL LETTERS|Tucson        |AZ   |USA    |Tucson AZ USA         |\n",
      "|WOS:000257661900001|ASTROPHYSICAL JOURNAL LETTERS|Pasadena      |CA   |USA    |Pasadena CA USA       |\n",
      "+-------------------+-----------------------------+--------------+-----+-------+----------------------+\n",
      "\n"
     ]
    }
   ],
   "source": [
    "cityJ7.filter($\"UID\" === \"WOS:000257661900001\").show(false)"
   ]
  },
  {
   "cell_type": "code",
   "execution_count": 39,
   "metadata": {},
   "outputs": [
    {
     "name": "stdout",
     "output_type": "stream",
     "text": [
      "+-----------------------------------+----------+\n",
      "|cityFull                           |paperCount|\n",
      "+-----------------------------------+----------+\n",
      "|Beijing  Peoples R China           |1741970   |\n",
      "|London  England                    |1299390   |\n",
      "|Boston MA USA                      |1061472   |\n",
      "|New York NY USA                    |1023663   |\n",
      "|Tokyo  Japan                       |949282    |\n",
      "|Seoul  South Korea                 |939495    |\n",
      "|Paris  France                      |862381    |\n",
      "|Shanghai  Peoples R China          |799271    |\n",
      "|Toronto ON Canada                  |631233    |\n",
      "|Moscow  Russia                     |577859    |\n",
      "|Los Angeles CA USA                 |564685    |\n",
      "|Madrid  Spain                      |559716    |\n",
      "|Philadelphia PA USA                |548318    |\n",
      "|Baltimore MD USA                   |528832    |\n",
      "|Chicago IL USA                     |523843    |\n",
      "|Taipei  Taiwan                     |511066    |\n",
      "|Houston TX USA                     |503769    |\n",
      "|Rome  Italy                        |503550    |\n",
      "|Barcelona  Spain                   |483881    |\n",
      "|Montreal PQ Canada                 |447687    |\n",
      "|Milan  Italy                       |444982    |\n",
      "|Sydney NSW Australia               |442742    |\n",
      "|Berlin  Germany                    |442251    |\n",
      "|Singapore  Singapore               |438055    |\n",
      "|Tehran  Iran                       |428312    |\n",
      "|Cambridge MA USA                   |422237    |\n",
      "|Seattle WA USA                     |420440    |\n",
      "|Washington DC USA                  |406838    |\n",
      "|Atlanta GA USA                     |405061    |\n",
      "|Amsterdam  Netherlands             |381829    |\n",
      "|Pittsburgh PA USA                  |373648    |\n",
      "|Nanjing Jiangsu Peoples R China    |371332    |\n",
      "|Ann Arbor MI USA                   |366432    |\n",
      "|Guangzhou Guangdong Peoples R China|358550    |\n",
      "|Melbourne Vic Australia            |350442    |\n",
      "|San Francisco CA USA               |340287    |\n",
      "|Cambridge  England                 |324038    |\n",
      "|Stockholm  Sweden                  |323686    |\n",
      "|LONDON  ENGLAND                    |318167    |\n",
      "|Vienna  Austria                    |316028    |\n",
      "|Munich  Germany                    |312474    |\n",
      "|Oxford  England                    |310485    |\n",
      "|Bethesda MD USA                    |306687    |\n",
      "|BOSTON MA USA                      |305345    |\n",
      "|Sao Paulo  Brazil                  |293445    |\n",
      "|NEW YORK NY USA                    |285623    |\n",
      "|Zurich  Switzerland                |283552    |\n",
      "|Stanford CA USA                    |268858    |\n",
      "|Cleveland OH USA                   |266508    |\n",
      "|Berkeley CA USA                    |266298    |\n",
      "+-----------------------------------+----------+\n",
      "only showing top 50 rows\n",
      "\n"
     ]
    },
    {
     "data": {
      "text/plain": [
       "cityJ9 = [cityFull: string, paperCount: bigint]\n"
      ]
     },
     "metadata": {},
     "output_type": "display_data",
     "source": "user"
    },
    {
     "data": {
      "text/plain": [
       "[cityFull: string, paperCount: bigint]"
      ]
     },
     "execution_count": 39,
     "metadata": {},
     "output_type": "execute_result"
    }
   ],
   "source": [
    "import org.apache.spark.sql.SaveMode\n",
    "\n",
    "val cityJ9 = cityJ7.groupBy(\"cityFull\").agg(count(lit(1)).alias(\"paperCount\"))\n",
    "cityJ9.orderBy($\"paperCount\".desc).show(50,false)\n",
    "//cityJ9.write.mode(SaveMode.Overwrite).parquet(\"/user/yan30/WoScityJournal/\")"
   ]
  },
  {
   "cell_type": "code",
   "execution_count": 41,
   "metadata": {},
   "outputs": [
    {
     "name": "stdout",
     "output_type": "stream",
     "text": [
      "+-------+--------+----------+\n",
      "|summary|cityFull|paperCount|\n",
      "+-------+--------+----------+\n",
      "|  count|    3790|      3790|\n",
      "+-------+--------+----------+\n",
      "\n"
     ]
    },
    {
     "data": {
      "text/plain": [
       "lastException: Throwable = null\n"
      ]
     },
     "metadata": {},
     "output_type": "display_data",
     "source": "user"
    }
   ],
   "source": [
    "cityJ9.filter($\"paperCount\" > 2000).describe().filter($\"summary\" === \"count\").show"
   ]
  },
  {
   "cell_type": "code",
   "execution_count": 42,
   "metadata": {},
   "outputs": [
    {
     "name": "stdout",
     "output_type": "stream",
     "text": [
      "+-------+--------+----------+\n",
      "|summary|cityFull|paperCount|\n",
      "+-------+--------+----------+\n",
      "|  count|  524170|    524170|\n",
      "+-------+--------+----------+\n",
      "\n"
     ]
    }
   ],
   "source": [
    "cityJ9.describe().filter($\"summary\" === \"count\").show"
   ]
  },
  {
   "cell_type": "code",
   "execution_count": null,
   "metadata": {},
   "outputs": [],
   "source": [
    "import org.apache.spark.sql.functions.regexp_replace\n",
    "import org.apache.spark.sql.functions.col\n",
    "\n",
    "val cityJ8 = cityJ6.withColumn(\n",
    "  \"cityFull\", regexp_replace(concat($\"city\", $\"state\", $\"country\"),\"\\\\s\", \"\")\n",
    ")\n",
    "val cityJ9b = cityJ8.groupBy(\"cityFull\",\"journal\").agg(count(lit(1)).alias(\"count\")).cache()"
   ]
  },
  {
   "cell_type": "code",
   "execution_count": null,
   "metadata": {},
   "outputs": [],
   "source": [
    "//cityJ9b.filter($\"cityFull\".contains(\"Nan Kang\")).show\n",
    "//cityJ9b.show(false)\n",
    "cityJ9b.describe().filter($\"summary\" === \"count\").show"
   ]
  },
  {
   "cell_type": "code",
   "execution_count": null,
   "metadata": {
    "scrolled": true
   },
   "outputs": [],
   "source": [
    "val cityL = spark.read.format(\"csv\").option(\"header\", true).load(\"/data1/cityList.csv\")\n",
    "val cityList = cityL.withColumn(\"cityUpper\", upper(col(\"city_rev\")));\n",
    "cityList.show(60)"
   ]
  },
  {
   "cell_type": "code",
   "execution_count": null,
   "metadata": {
    "scrolled": true
   },
   "outputs": [],
   "source": [
    "val cityM = spark.read.format(\"csv\").option(\"header\", true).load(\"/data1/cityListMerged.csv\")\n",
    "val cityMerged = cityM.select(\" string\", \" mergeList\",\" mergeCount\").withColumn(\"mergeLength\", length(col(\" mergeCount\")))\n",
    "cityMerged.show(60,false)"
   ]
  },
  {
   "cell_type": "code",
   "execution_count": null,
   "metadata": {
    "scrolled": true
   },
   "outputs": [],
   "source": [
    "val matchedCityMerge = cityMerged.join(cityList, (cityMerged(\" mergeList\").contains(cityList(\"city_rev\")) \n",
    "                                       && cityMerged(\" mergeList\").contains(cityList(\"country\"))), \"inner\")\n",
    "//matchedCityMerge.groupBy(\"mass\").agg(concat_ws(\";\", collect_list(\" matchList\")) as \"matchLists\").show(60)\n",
    "//val maxMatch = matchedCityMerge.groupBy(\"city\").agg(max(\"mergeLength\") as \"mergeMax\")\n",
    "//val cityMatched = maxMatch.join(cityMerged, cityMerged(\"city\")=== maxMatch(\"city\") &&\n",
    "                                //cityMerged(\"mergeLength\")=== maxMatch(\"mergeMax\"), \"left\")\n",
    "//matchedCityMerge.show(60)\n",
    "//matchedCityMerge.describe().filter($\"summary\" === \"count\").show"
   ]
  },
  {
   "cell_type": "code",
   "execution_count": null,
   "metadata": {},
   "outputs": [],
   "source": [
    "matchedCityMerge.filter($\"city\".contains(\"Taipei\")).show(false)"
   ]
  },
  {
   "cell_type": "code",
   "execution_count": null,
   "metadata": {
    "scrolled": true
   },
   "outputs": [],
   "source": [
    "import org.apache.spark.sql.expressions.Window\n",
    "val w = Window.partitionBy($\"city\")\n",
    "val maxMatch2 = matchedCityMerge.withColumn(\"mergeMax\", max(\"mergeLength\").over(w))\n",
    "    .filter($\"mergeMax\" === $\"mergeLength\").orderBy(\"mergeMax\")\n",
    "    .select(\" string\", \" mergeList\", \"mass\", \"city\", \"country\", \"city_rev\")\n",
    "    .toDF(\"string\", \"matchList\", \"mass\", \"city\", \"country\", \"city_rev\")\n",
    "maxMatch2.show(60)"
   ]
  },
  {
   "cell_type": "code",
   "execution_count": null,
   "metadata": {},
   "outputs": [],
   "source": [
    "val matched0 = maxMatch2.join(cityJ9b, maxMatch2(\"matchList\").contains(cityJ9b(\"cityFull\")), \"inner\")\n",
    "//matched.show\n",
    "matched0.describe().filter($\"summary\" === \"count\").show"
   ]
  },
  {
   "cell_type": "code",
   "execution_count": null,
   "metadata": {},
   "outputs": [],
   "source": [
    "val missing = cityList.select(\"city\").except(matched0.select(\"city\"))\n",
    "//val missing2 = missing.join(accelList2, missing(\"Name0\")===accelList2(\"Name0\"), \"inner\").toDF()\n",
    "missing.show(20,false)"
   ]
  },
  {
   "cell_type": "code",
   "execution_count": null,
   "metadata": {
    "scrolled": true
   },
   "outputs": [],
   "source": [
    "val journals = spark.read.format(\"csv\").option(\"header\", true).load(\"/data1/journalName.csv\")\n",
    "val journalWoS = journals.filter($\"source_type\"===\"Thomson\")\n",
    "journalWoS.show(false)"
   ]
  },
  {
   "cell_type": "code",
   "execution_count": null,
   "metadata": {},
   "outputs": [],
   "source": [
    "val matched2 = matched0.join(journalWoS, regexp_replace(matched0(\"journal\"),\"\\\\s\", \"\")\n",
    "                             ===regexp_replace(journalWoS(\"journal_name\"),\"\\\\s\", \"\"), \"left\").cache()\n",
    "//matched.show\n",
    "matched2.describe().filter($\"summary\" === \"count\").show"
   ]
  },
  {
   "cell_type": "code",
   "execution_count": null,
   "metadata": {},
   "outputs": [],
   "source": [
    "val JsubMap = spark.read.format(\"csv\").option(\"header\", true).load(\"/data1/jounral-subdiscipline.csv\")\n",
    "val matched3 = matched2.withColumn(\"uniqueID\",monotonicallyIncreasingId)\n",
    "                .join(JsubMap, matched2(\"journ_id\")===JsubMap(\"journ_id\"), \"left\")\n",
    "matched3.show(false)\n",
    "//matched3.describe().filter($\"summary\" === \"count\").show"
   ]
  },
  {
   "cell_type": "code",
   "execution_count": null,
   "metadata": {},
   "outputs": [],
   "source": [
    "val subTable = spark.read.format(\"csv\").option(\"header\", true).load(\"/data1/subdiscipline.csv\")\n",
    "val matched4 = matched3.join(subTable, matched3(\"subd_id\")===subTable(\"subd_id\"), \"left\")\n",
    "//matched3.show(false)\n",
    "matched4.describe().filter($\"summary\" === \"count\").show"
   ]
  },
  {
   "cell_type": "code",
   "execution_count": null,
   "metadata": {},
   "outputs": [],
   "source": [
    "val subTable = spark.read.format(\"csv\").option(\"header\", true).load(\"/data1/discipline.csv\")\n",
    "val matched5 = matched4.join(subTable, matched4(\"disc_id\")===subTable(\"disc_id\"), \"left\")\n",
    "//matched3.show(false)\n",
    "matched5.describe().filter($\"summary\" === \"count\").show"
   ]
  },
  {
   "cell_type": "code",
   "execution_count": null,
   "metadata": {},
   "outputs": [],
   "source": [
    "matched5.withColumn(\"jLength\", length(col(\"jfraction\"))).orderBy($\"jLength\".desc).show(60,false)"
   ]
  },
  {
   "cell_type": "code",
   "execution_count": null,
   "metadata": {
    "scrolled": true
   },
   "outputs": [],
   "source": [
    "val matched5b = matched5.filter($\"jfraction\".isNotNull).groupBy(\"uniqueID\").pivot(\"disc_name\")\n",
    "                .agg(sum(\"jfraction\")).na.fill(0)\n",
    "matched5b.show"
   ]
  },
  {
   "cell_type": "code",
   "execution_count": null,
   "metadata": {
    "scrolled": true
   },
   "outputs": [],
   "source": [
    "val matched2b = matched2.withColumn(\"uniqueID\",monotonicallyIncreasingId).select(\"uniqueID\",\"mass\",\"city\",\"country\",\"city_rev\",\"count\")\n",
    "val matched6 = matched2b.join(matched5b, matched2b(\"uniqueID\")===matched5b(\"uniqueID\"), \"left\").cache()\n",
    "//matched6.describe().filter($\"summary\" === \"count\").show\n",
    "matched6.show(false)"
   ]
  },
  {
   "cell_type": "code",
   "execution_count": null,
   "metadata": {
    "scrolled": true
   },
   "outputs": [],
   "source": [
    "val matched7 = matched6.groupBy(\"city\").agg(sum(matched6(\"Biology\")*matched6(\"count\")) as \"Biology\"\n",
    "                                           ,sum(matched6(\"Biotechnology\")*matched6(\"count\")) as \"Biotechnology\"\n",
    "                                           ,sum(matched6(\"Brain Research\")*matched6(\"count\")) as \"Brain Research\"\n",
    "                                           ,sum(matched6(\"Chemical, Mechanical, & Civil Engineering\")*matched6(\"count\")) as \"Chemical, Mechanical, & Civil Engineering\"\n",
    "                                           ,sum(matched6(\"Chemistry\")*matched6(\"count\")) as \"Chemistry\"\n",
    "                                           ,sum(matched6(\"Earth Sciences\")*matched6(\"count\")) as \"Earth Sciences\"\n",
    "                                           ,sum(matched6(\"Electrical Engineering & Computer Science\")*matched6(\"count\")) as \"Electrical Engineering & Computer Science\"\n",
    "                                           ,sum(matched6(\"Health Professionals\")*matched6(\"count\")) as \"Health Professionals\"\n",
    "                                           ,sum(matched6(\"Humanities\")*matched6(\"count\")) as \"Humanities\"\n",
    "                                           ,sum(matched6(\"Infectious Diseases\")*matched6(\"count\")) as \"Infectious Diseases\"\n",
    "                                           ,sum(matched6(\"Math & Physics\")*matched6(\"count\")) as \"Math & Physics\"\n",
    "                                           ,sum(matched6(\"Medical Specialties\")*matched6(\"count\")) as \"Medical Specialties\"\n",
    "                                           ,sum(matched6(\"Social Sciences\")*matched6(\"count\")) as \"Social Sciences\"\n",
    "                                           )\n",
    "matched7.show(55)"
   ]
  },
  {
   "cell_type": "code",
   "execution_count": null,
   "metadata": {
    "scrolled": true
   },
   "outputs": [],
   "source": [
    "//val exprs = matched6.columns.drop(7).map(sum(_)* matched6.columns.tail(4))\n",
    "//matched6.groupBy(\"city\").agg(exprs.head, exprs.tail: _*).show()\n",
    "matched6.groupBy(\"city\").sum(matched6.columns.drop(7): _*).show(55)"
   ]
  },
  {
   "cell_type": "code",
   "execution_count": null,
   "metadata": {},
   "outputs": [],
   "source": [
    "matched6.columns.tail(4)"
   ]
  },
  {
   "cell_type": "code",
   "execution_count": null,
   "metadata": {},
   "outputs": [],
   "source": [
    "matched7.coalesce(1).write.mode(SaveMode.Overwrite)\n",
    "    .format(\"com.databricks.spark.csv\")\n",
    "    .option(\"header\", \"true\")\n",
    "    .save(\"/tmp/cityProfiles.csv\")"
   ]
  },
  {
   "cell_type": "code",
   "execution_count": null,
   "metadata": {
    "scrolled": true
   },
   "outputs": [],
   "source": [
    "import sqlContext.implicits._\n",
    "cityJ9b.filter($\"cityFull\".contains(\"Munich\")).orderBy($\"count\".desc).show(60, false)"
   ]
  },
  {
   "cell_type": "code",
   "execution_count": null,
   "metadata": {},
   "outputs": [],
   "source": []
  }
 ],
 "metadata": {
  "kernelspec": {
   "display_name": "Apache Toree - Scala",
   "language": "scala",
   "name": "apache_toree_scala"
  },
  "language_info": {
   "codemirror_mode": "text/x-scala",
   "file_extension": ".scala",
   "mimetype": "text/x-scala",
   "name": "scala",
   "pygments_lexer": "scala",
   "version": "2.11.12"
  }
 },
 "nbformat": 4,
 "nbformat_minor": 2
}
