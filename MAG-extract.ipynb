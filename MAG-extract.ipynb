{
 "cells": [
  {
   "cell_type": "code",
   "execution_count": 1,
   "metadata": {
    "scrolled": true
   },
   "outputs": [
    {
     "data": {
      "text/plain": [
       "Waiting for a Spark session to start..."
      ]
     },
     "metadata": {},
     "output_type": "display_data",
     "source": "user"
    },
    {
     "data": {
      "text/plain": [
       "sqlContext = org.apache.spark.sql.SQLContext@33a10317\n"
      ]
     },
     "metadata": {},
     "output_type": "display_data",
     "source": "user"
    },
    {
     "data": {
      "text/plain": [
       "warning: there was one deprecation warning; re-run with -deprecation for details\n"
      ]
     },
     "metadata": {},
     "output_type": "display_data",
     "source": "user"
    },
    {
     "data": {
      "text/plain": [
       "Some(http://iuni2:4040)"
      ]
     },
     "execution_count": 1,
     "metadata": {},
     "output_type": "execute_result"
    }
   ],
   "source": [
    "import org.apache.spark.sql.{SQLContext, SaveMode}\n",
    "import org.apache.spark.sql.types.{StructType, StructField, StringType, DoubleType};\n",
    "import com.databricks.spark.xml._\n",
    "\n",
    "val sqlContext = new SQLContext(sc)\n",
    "import sqlContext.implicits._\n",
    "sqlContext.sql(\"set spark.sql.caseSensitive=true\") \n",
    "spark.sparkContext.uiWebUrl"
   ]
  },
  {
   "cell_type": "code",
   "execution_count": 2,
   "metadata": {
    "scrolled": true
   },
   "outputs": [
    {
     "name": "stdout",
     "output_type": "stream",
     "text": [
      "root\n",
      " |-- UID: string (nullable = true)\n",
      " |-- titles: struct (nullable = true)\n",
      " |    |-- _count: long (nullable = true)\n",
      " |    |-- title: array (nullable = true)\n",
      " |    |    |-- element: struct (containsNull = true)\n",
      " |    |    |    |-- _VALUE: string (nullable = true)\n",
      " |    |    |    |-- _translated: string (nullable = true)\n",
      " |    |    |    |-- _type: string (nullable = true)\n",
      " |-- category_info: struct (nullable = true)\n",
      " |    |-- headings: struct (nullable = true)\n",
      " |    |    |-- _count: long (nullable = true)\n",
      " |    |    |-- heading: array (nullable = true)\n",
      " |    |    |    |-- element: string (containsNull = true)\n",
      " |    |-- subheadings: struct (nullable = true)\n",
      " |    |    |-- _count: long (nullable = true)\n",
      " |    |    |-- subheading: array (nullable = true)\n",
      " |    |    |    |-- element: string (containsNull = true)\n",
      " |    |-- subjects: struct (nullable = true)\n",
      " |    |    |-- _count: long (nullable = true)\n",
      " |    |    |-- subject: array (nullable = true)\n",
      " |    |    |    |-- element: struct (containsNull = true)\n",
      " |    |    |    |    |-- _VALUE: string (nullable = true)\n",
      " |    |    |    |    |-- _ascatype: string (nullable = true)\n",
      " |-- name: array (nullable = true)\n",
      " |    |-- element: struct (containsNull = true)\n",
      " |    |    |-- _addr_no: string (nullable = true)\n",
      " |    |    |-- _orcid_id_tr: string (nullable = true)\n",
      " |    |    |-- _r_id_tr: string (nullable = true)\n",
      " |    |    |-- _reprint: string (nullable = true)\n",
      " |    |    |-- _role: string (nullable = true)\n",
      " |    |    |-- _seq_no: long (nullable = true)\n",
      " |    |    |-- display_name: string (nullable = true)\n",
      " |    |    |-- email_addr: string (nullable = true)\n",
      " |    |    |-- first_name: string (nullable = true)\n",
      " |    |    |-- full_name: string (nullable = true)\n",
      " |    |    |-- last_name: string (nullable = true)\n",
      " |    |    |-- suffix: string (nullable = true)\n",
      " |    |    |-- wos_standard: string (nullable = true)\n",
      "\n"
     ]
    },
    {
     "data": {
      "text/plain": [
       "WoS = [UID: string, _r_id_disclaimer: string ... 13 more fields]\n",
       "WoS2 = [UID: string, titles: struct<_count: bigint, title: array<struct<_VALUE:string,_translated:string,_type:string>>> ... 2 more fields]\n"
      ]
     },
     "metadata": {},
     "output_type": "display_data",
     "source": "user"
    },
    {
     "data": {
      "text/plain": [
       "[UID: string, titles: struct<_count: bigint, title: array<struct<_VALUE:string,_translated:string,_type:string>>> ... 2 more fields]"
      ]
     },
     "execution_count": 2,
     "metadata": {},
     "output_type": "execute_result"
    }
   ],
   "source": [
    "val WoS = spark.read.format(\"parquet\").load(\"/WoSraw/parquet/*.parquet\")\n",
    "\n",
    "val WoS2 = WoS.select(\"UID\",\"static_data.summary.titles\",\"static_data.fullrecord_metadata.category_info\",\"static_data.summary.names.name\")\n",
    "WoS2.printSchema"
   ]
  },
  {
   "cell_type": "code",
   "execution_count": 2,
   "metadata": {
    "scrolled": true
   },
   "outputs": [
    {
     "data": {
      "text/plain": [
       "session = org.apache.spark.sql.SparkSession@1c71b69f\n",
       "azureFile = /azureBlob.txt MapPartitionsRDD[1] at textFile at <console>:45\n"
      ]
     },
     "metadata": {},
     "output_type": "display_data",
     "source": "user"
    },
    {
     "data": {
      "text/plain": [
       "/azureBlob.txt MapPartitionsRDD[1] at textFile at <console>:45"
      ]
     },
     "execution_count": 2,
     "metadata": {},
     "output_type": "execute_result"
    }
   ],
   "source": [
    "import scala.util.Try\n",
    "import org.apache.spark.sql.functions._\n",
    "import org.apache.spark.sql.{Row, SQLContext}\n",
    "import org.apache.spark.sql.functions.countDistinct\n",
    "import org.apache.spark.sql.SaveMode\n",
    "\n",
    "val session = SparkSession.builder().getOrCreate()\n",
    "\n",
    "val azureFile = sc.textFile(\"/azureBlob.txt\")\n",
    "session.conf.set(\n",
    "    \"fs.azure.account.key.iunimag.blob.core.windows.net\",\n",
    "     azureFile.collect().mkString\n",
    ")\n",
    "\n",
    "val magPapers = spark.read.format(\"csv\")\n",
    "      //.option(\"header\", \"true\")\n",
    "      .option(\"delimiter\",\"\\t\")\n",
    "      .option(\"inferSchema\",\"true\")\n",
    "      .load(\"wasbs://mag-2020-09-01@iunimag.blob.core.windows.net/mag/Papers.txt\")\n",
    "magPapers.show"
   ]
  },
  {
   "cell_type": "code",
   "execution_count": 39,
   "metadata": {},
   "outputs": [
    {
     "name": "stdout",
     "output_type": "stream",
     "text": [
      "+-------+--------+--------+--------+----------+---------+--------+---------+------------------+--------------------+-------------+-----------------+--------+\n",
      "|summary|   MAGid|     Doi| DocType|PaperTitle|BookTitle|    Year|JournalId|ConferenceSeriesId|ConferenceInstanceId|CitationCount|EstimatedCitation|FamilyId|\n",
      "+-------+--------+--------+--------+----------+---------+--------+---------+------------------+--------------------+-------------+-----------------+--------+\n",
      "|  count|64625812|48176760|64625812|  64625812|  3890193|64625812| 58694317|           4033251|             1401647|     64625809|         64625809| 1207899|\n",
      "+-------+--------+--------+--------+----------+---------+--------+---------+------------------+--------------------+-------------+-----------------+--------+\n",
      "\n"
     ]
    },
    {
     "data": {
      "text/plain": [
       "magPapers2 = [MAGid: bigint, Doi: string ... 11 more fields]\n",
       "magPapers3 = [MAGid: bigint, Doi: string ... 11 more fields]\n"
      ]
     },
     "metadata": {},
     "output_type": "display_data",
     "source": "user"
    },
    {
     "data": {
      "text/plain": [
       "[MAGid: bigint, Doi: string ... 11 more fields]"
      ]
     },
     "execution_count": 39,
     "metadata": {},
     "output_type": "execute_result"
    }
   ],
   "source": [
    "val magPapers2 = magPapers.select(\"_c0\",\"_c2\",\"_c3\",\"_c4\",\"_c6\",\"_c7\",\"_c8\",\"_c11\",\"_c12\",\"_c13\",\"_c19\",\"_c20\",\"_c22\")\n",
    ".toDF(\"MAGid\",\"Doi\",\"DocType\",\"PaperTitle\",\"BookTitle\",\"Year\",\"Date\",\"JournalId\",\"ConferenceSeriesId\",\"ConferenceInstanceId\",\"CitationCount\",\"EstimatedCitation\",\"FamilyId\")\n",
    "val magPapers3 = magPapers2.filter($\"Year\" >= \"1989\" && $\"Year\" <= \"2017\").filter($\"DocType\" === \"Journal\" || $\"DocType\" === \"Conference\" || $\"DocType\" === \"BookChapter\").cache()\n",
    "magPapers3.describe().filter($\"summary\" === \"count\").show"
   ]
  },
  {
   "cell_type": "code",
   "execution_count": 43,
   "metadata": {},
   "outputs": [
    {
     "name": "stdout",
     "output_type": "stream",
     "text": [
      "+-------+-------+------+-------+----------+---------+-------+---------+------------------+--------------------+-------------+-----------------+--------+\n",
      "|summary|  MAGid|   Doi|DocType|PaperTitle|BookTitle|   Year|JournalId|ConferenceSeriesId|ConferenceInstanceId|CitationCount|EstimatedCitation|FamilyId|\n",
      "+-------+-------+------+-------+----------+---------+-------+---------+------------------+--------------------+-------------+-----------------+--------+\n",
      "|  count|1207899|986412|1207899|   1207899|   115354|1207899|  1037257|            170634|               67501|      1207899|          1207899| 1207899|\n",
      "+-------+-------+------+-------+----------+---------+-------+---------+------------------+--------------------+-------------+-----------------+--------+\n",
      "\n"
     ]
    },
    {
     "data": {
      "text/plain": [
       "magPapersF = [MAGid: bigint, Doi: string ... 11 more fields]\n"
      ]
     },
     "metadata": {},
     "output_type": "display_data",
     "source": "user"
    },
    {
     "data": {
      "text/plain": [
       "[MAGid: bigint, Doi: string ... 11 more fields]"
      ]
     },
     "execution_count": 43,
     "metadata": {},
     "output_type": "execute_result"
    }
   ],
   "source": [
    "val magPapersF = magPapers3.filter(\"FamilyId is not null\")\n",
    "magPapersF.describe().filter($\"summary\" === \"count\").show"
   ]
  },
  {
   "cell_type": "code",
   "execution_count": 46,
   "metadata": {},
   "outputs": [
    {
     "name": "stdout",
     "output_type": "stream",
     "text": [
      "+-------+------+------+-------+----------+---------+------+---------+------------------+--------------------+-------------+-----------------+--------+\n",
      "|summary| MAGid|   Doi|DocType|PaperTitle|BookTitle|  Year|JournalId|ConferenceSeriesId|ConferenceInstanceId|CitationCount|EstimatedCitation|FamilyId|\n",
      "+-------+------+------+-------+----------+---------+------+---------+------------------+--------------------+-------------+-----------------+--------+\n",
      "|  count|254440|178078| 254440|    254440|    49422|254440|   180360|             74072|               23512|       254440|           254440|  254440|\n",
      "+-------+------+------+-------+----------+---------+------+---------+------------------+--------------------+-------------+-----------------+--------+\n",
      "\n"
     ]
    },
    {
     "data": {
      "text/plain": [
       "magPapersF = [MAGid: bigint, Doi: string ... 11 more fields]\n"
      ]
     },
     "metadata": {},
     "output_type": "display_data",
     "source": "user"
    },
    {
     "data": {
      "text/plain": [
       "[MAGid: bigint, Doi: string ... 11 more fields]"
      ]
     },
     "execution_count": 46,
     "metadata": {},
     "output_type": "execute_result"
    }
   ],
   "source": [
    "val magPapersF = magPapers3.filter($\"FamilyId\" =!= $\"MAGid\")\n",
    "magPapersF.describe().filter($\"summary\" === \"count\").show"
   ]
  },
  {
   "cell_type": "code",
   "execution_count": 47,
   "metadata": {},
   "outputs": [
    {
     "name": "stdout",
     "output_type": "stream",
     "text": [
      "+-------+--------+--------+--------+----------+---------+--------+---------+------------------+--------------------+-------------+-----------------+--------+\n",
      "|summary|   MAGid|     Doi| DocType|PaperTitle|BookTitle|    Year|JournalId|ConferenceSeriesId|ConferenceInstanceId|CitationCount|EstimatedCitation|FamilyId|\n",
      "+-------+--------+--------+--------+----------+---------+--------+---------+------------------+--------------------+-------------+-----------------+--------+\n",
      "|  count|64371372|47998682|64371372|  64371372|  3840771|64371372| 58513957|           3959179|             1378135|     64371369|         64371369|  953459|\n",
      "+-------+--------+--------+--------+----------+---------+--------+---------+------------------+--------------------+-------------+-----------------+--------+\n",
      "\n"
     ]
    },
    {
     "data": {
      "text/plain": [
       "magPapers4 = [MAGid: bigint, Doi: string ... 11 more fields]\n"
      ]
     },
     "metadata": {},
     "output_type": "display_data",
     "source": "user"
    },
    {
     "data": {
      "text/plain": [
       "[MAGid: bigint, Doi: string ... 11 more fields]"
      ]
     },
     "execution_count": 47,
     "metadata": {},
     "output_type": "execute_result"
    }
   ],
   "source": [
    "val magPapers4 = magPapers3.join(magPapersF, magPapers3(\"MAGid\")===magPapersF(\"MAGid\"), \"leftanti\")\n",
    "magPapers4.describe().filter($\"summary\" === \"count\").show"
   ]
  },
  {
   "cell_type": "code",
   "execution_count": 4,
   "metadata": {},
   "outputs": [
    {
     "name": "stdout",
     "output_type": "stream",
     "text": [
      "+---+----------+----------+---+--------------------+--------------------+\n",
      "|_c0|       _c1|       _c2|_c3|                 _c4|                 _c5|\n",
      "+---+----------+----------+---+--------------------+--------------------+\n",
      "|  9|2632942543|      null|  1|Victoriano Perruc...|                null|\n",
      "| 15| 199142497|      null|  1|     Robert Münscher|Heidelberg, Deuts...|\n",
      "| 15| 680395887|      null|  2|       Julia Hormuth|Reutlingen, Deuts...|\n",
      "| 23|1243978490|  79576946|  1|     Eric T Stoopler|Department of Ora...|\n",
      "| 23|2582258949|      null|  3| Arthur S Kuperstein|                null|\n",
      "| 23|2582736345|      null|  2|        Ying Wai Sia|                null|\n",
      "| 58|2641488431|      null|  1|             I. Uray|                null|\n",
      "| 58|2693978806|      null|  2|           P. Kovacs|                null|\n",
      "| 79|2662843304|      null|  1|           K. Suresh|                null|\n",
      "| 79|2683440697|      null|  2|     T. S. J. Norman|                null|\n",
      "| 87|2676159639|      null|  1| Gabriel Torres Puga|                null|\n",
      "|108|2126642415| 165102784|  1|      Matthew Lovett| Duquesne University|\n",
      "|125|1995014452| 169199633|  2|     David Hannaford|Aston University ...|\n",
      "|125|2002579779| 169199633|  1|           Jon Bader|Aston University ...|\n",
      "|125|2250382311| 169199633|  4|        John Edwards|Aston University ...|\n",
      "|125|2283694448| 169199633|  3|    Alastair Cochran|Aston University ...|\n",
      "|138|2729948773|1316910977|  2|       Tropea Alfred|E.I. DU PONT DE N...|\n",
      "|138|2825090221|      null|  1|      Blackwell John|CROMPTON & KNOWLE...|\n",
      "|143|2137699977|      null|  1|     Lina Birgersson|                null|\n",
      "|147|2616864840|      null|  1|       Callejas Pozo|                null|\n",
      "+---+----------+----------+---+--------------------+--------------------+\n",
      "only showing top 20 rows\n",
      "\n"
     ]
    },
    {
     "data": {
      "text/plain": [
       "magPPA = [_c0: bigint, _c1: bigint ... 4 more fields]\n"
      ]
     },
     "metadata": {},
     "output_type": "display_data",
     "source": "user"
    },
    {
     "data": {
      "text/plain": [
       "[_c0: bigint, _c1: bigint ... 4 more fields]"
      ]
     },
     "execution_count": 4,
     "metadata": {},
     "output_type": "execute_result"
    }
   ],
   "source": [
    "val magPPA = spark.read.format(\"csv\")\n",
    "      //.option(\"header\", \"true\")\n",
    "      .option(\"delimiter\",\"\\t\")\n",
    "      .option(\"inferSchema\",\"true\")\n",
    "      .load(\"wasbs://mag-2020-09-01@iunimag.blob.core.windows.net/mag/PaperAuthorAffiliations.txt\")\n",
    "\n",
    "magPPA.show"
   ]
  },
  {
   "cell_type": "code",
   "execution_count": 48,
   "metadata": {},
   "outputs": [
    {
     "name": "stdout",
     "output_type": "stream",
     "text": [
      "+-------+---------+---------+---------+----------+---------+---------+---------+------------------+--------------------+-------------+-----------------+--------+---------+---------+-------------+--------------------+--------------+-------------------+\n",
      "|summary|    MAGid|      Doi|  DocType|PaperTitle|BookTitle|     Year|JournalId|ConferenceSeriesId|ConferenceInstanceId|CitationCount|EstimatedCitation|FamilyId|   MAGid2| AuthorId|AffiliationId|AuthorSequenceNumber|OriginalAuthor|OriginalAffiliation|\n",
      "+-------+---------+---------+---------+----------+---------+---------+---------+------------------+--------------------+-------------+-----------------+--------+---------+---------+-------------+--------------------+--------------+-------------------+\n",
      "|  count|228988583|191624300|228988583| 228988583|  9278599|228988583|212656230|          13233459|             4753483|    228988567|        228988567| 3231339|228988583|228988583|    118873273|           228988583|     228988583|          146845869|\n",
      "+-------+---------+---------+---------+----------+---------+---------+---------+------------------+--------------------+-------------+-----------------+--------+---------+---------+-------------+--------------------+--------------+-------------------+\n",
      "\n"
     ]
    },
    {
     "data": {
      "text/plain": [
       "magPPA2 = [MAGid2: bigint, AuthorId: bigint ... 4 more fields]\n",
       "magPPA3 = [MAGid: bigint, Doi: string ... 17 more fields]\n"
      ]
     },
     "metadata": {},
     "output_type": "display_data",
     "source": "user"
    },
    {
     "data": {
      "text/plain": [
       "[MAGid: bigint, Doi: string ... 17 more fields]"
      ]
     },
     "execution_count": 48,
     "metadata": {},
     "output_type": "execute_result"
    }
   ],
   "source": [
    "val magPPA2 = magPPA.toDF(\"MAGid2\",\"AuthorId\",\"AffiliationId\",\"AuthorSequenceNumber\",\"OriginalAuthor\",\"OriginalAffiliation\")\n",
    "val magPPA3 = magPapers4.join(magPPA2, magPapers4(\"MAGid\")===magPPA2(\"MAGid2\"), \"left\").cache()\n",
    "magPPA3.describe().filter($\"summary\" === \"count\").show"
   ]
  },
  {
   "cell_type": "code",
   "execution_count": 3,
   "metadata": {},
   "outputs": [
    {
     "data": {
      "text/plain": [
       "magPPA3 = [MAGid: bigint, Doi: string ... 17 more fields]\n"
      ]
     },
     "metadata": {},
     "output_type": "display_data",
     "source": "user"
    },
    {
     "data": {
      "text/plain": [
       "[MAGid: bigint, Doi: string ... 17 more fields]"
      ]
     },
     "execution_count": 3,
     "metadata": {},
     "output_type": "execute_result"
    }
   ],
   "source": [
    "//magPPA3.write.mode(SaveMode.Overwrite).parquet(\"/dataRCSC/Fellow5-flight-collaboration/magPPA3/\")\n",
    "val magPPA3 = spark.read.format(\"parquet\").load(\"/dataRCSC/Fellow5-flight-collaboration/magPPA3/*.parquet\")"
   ]
  },
  {
   "cell_type": "code",
   "execution_count": 5,
   "metadata": {},
   "outputs": [
    {
     "name": "stdout",
     "output_type": "stream",
     "text": [
      "+-------+--------------+--------------+-----------+------+-----+----------+----------------+-------------+-----------+--------+---------+\n",
      "|summary|AffiliationId2|normalizedName|displayName|GRIDid| wiki|paperTotal|paperFamilyTotal|citationTotal|Iso3166Code|Latitude|Longitude|\n",
      "+-------+--------------+--------------+-----------+------+-----+----------+----------------+-------------+-----------+--------+---------+\n",
      "|  count|         25785|         25785|      25785| 19026|25496|     25785|           25785|        25785|      24689|   24790|    24790|\n",
      "+-------+--------------+--------------+-----------+------+-----+----------+----------------+-------------+-----------+--------+---------+\n",
      "\n"
     ]
    },
    {
     "data": {
      "text/plain": [
       "magAffiliation = [_c0: bigint, _c1: int ... 12 more fields]\n",
       "magAffiliation2 = [AffiliationId2: bigint, normalizedName: string ... 9 more fields]\n"
      ]
     },
     "metadata": {},
     "output_type": "display_data",
     "source": "user"
    },
    {
     "data": {
      "text/plain": [
       "[AffiliationId2: bigint, normalizedName: string ... 9 more fields]"
      ]
     },
     "execution_count": 5,
     "metadata": {},
     "output_type": "execute_result"
    }
   ],
   "source": [
    "val magAffiliation = spark.read.format(\"csv\")\n",
    "      //.option(\"header\", \"true\")\n",
    "      .option(\"delimiter\",\"\\t\")\n",
    "      .option(\"inferSchema\",\"true\")\n",
    "      .load(\"wasbs://mag-2020-09-01@iunimag.blob.core.windows.net/mag/Affiliations.txt\")\n",
    "\n",
    "val magAffiliation2 = magAffiliation.select(\"_c0\",\"_c2\",\"_c3\",\"_c4\",\"_c6\",\"_c7\",\"_c8\",\"_c9\",\"_c10\",\"_c11\",\"_c12\").toDF(\"AffiliationId2\",\"normalizedName\",\"displayName\",\"GRIDid\",\"wiki\",\"paperTotal\",\"paperFamilyTotal\",\"citationTotal\", \"Iso3166Code\", \"Latitude\", \"Longitude\")\n",
    "magAffiliation2.describe().filter($\"summary\" === \"count\").show"
   ]
  },
  {
   "cell_type": "code",
   "execution_count": 6,
   "metadata": {},
   "outputs": [
    {
     "name": "stdout",
     "output_type": "stream",
     "text": [
      "+-------+---------+---------+---------+----------+---------+---------+---------+------------------+--------------------+-------------+-----------------+--------+---------+---------+-------------+--------------------+--------------+-------------------+--------------+--------------+-----------+---------+---------+----------+----------------+-------------+-----------+---------+---------+\n",
      "|summary|    MAGid|      Doi|  DocType|PaperTitle|BookTitle|     Year|JournalId|ConferenceSeriesId|ConferenceInstanceId|CitationCount|EstimatedCitation|FamilyId|   MAGid2| AuthorId|AffiliationId|AuthorSequenceNumber|OriginalAuthor|OriginalAffiliation|AffiliationId2|normalizedName|displayName|   GRIDid|     wiki|paperTotal|paperFamilyTotal|citationTotal|Iso3166Code| Latitude|Longitude|\n",
      "+-------+---------+---------+---------+----------+---------+---------+---------+------------------+--------------------+-------------+-----------------+--------+---------+---------+-------------+--------------------+--------------+-------------------+--------------+--------------+-----------+---------+---------+----------+----------------+-------------+-----------+---------+---------+\n",
      "|  count|228988583|191624300|228988583| 228988583|  9278599|228988583|212656230|          13233459|             4753483|    228988567|        228988567| 3231339|228988583|228988583|    118873273|           228988583|     228988583|          146845869|     118873273|     118873273|  118873273|113115307|118564235| 118873273|       118873273|    118873273|  117907521|118552675|118552675|\n",
      "+-------+---------+---------+---------+----------+---------+---------+---------+------------------+--------------------+-------------+-----------------+--------+---------+---------+-------------+--------------------+--------------+-------------------+--------------+--------------+-----------+---------+---------+----------+----------------+-------------+-----------+---------+---------+\n",
      "\n"
     ]
    },
    {
     "data": {
      "text/plain": [
       "magPPA4 = [MAGid: bigint, Doi: string ... 28 more fields]\n"
      ]
     },
     "metadata": {},
     "output_type": "display_data",
     "source": "user"
    },
    {
     "data": {
      "text/plain": [
       "[MAGid: bigint, Doi: string ... 28 more fields]"
      ]
     },
     "execution_count": 6,
     "metadata": {},
     "output_type": "execute_result"
    }
   ],
   "source": [
    "val magPPA4 = magPPA3.join(magAffiliation2, magPPA3(\"AffiliationId\")===magAffiliation2(\"AffiliationId2\"), \"left\").cache()\n",
    "magPPA4.describe().filter($\"summary\" === \"count\").show"
   ]
  },
  {
   "cell_type": "code",
   "execution_count": 13,
   "metadata": {},
   "outputs": [
    {
     "name": "stdout",
     "output_type": "stream",
     "text": [
      "+------------------+-----------+----+------------------+--------------------+----------+-------------+----------------------+-----------+--------+-----------+-------------+\n",
      "|    normalizedName|    DocType|Year|       displayName|                wiki|paperTotal|citationTotal|estimatedCitationTotal|Iso3166Code|Latitude|  Longitude|       GRIDid|\n",
      "+------------------+-----------+----+------------------+--------------------+----------+-------------+----------------------+-----------+--------+-----------+-------------+\n",
      "|indiana university| Conference|2017|Indiana University|http://en.wikiped...|       312|       4397.0|                  5303|         US|  39.167|-86.5213852|grid.257410.5|\n",
      "|indiana university|BookChapter|2017|Indiana University|http://en.wikiped...|         9|         15.0|                    15|         US|  39.167|-86.5213852|grid.257410.5|\n",
      "|indiana university|    Journal|2017|Indiana University|http://en.wikiped...|      5197|     145609.0|                194737|         US|  39.167|-86.5213852|grid.257410.5|\n",
      "+------------------+-----------+----+------------------+--------------------+----------+-------------+----------------------+-----------+--------+-----------+-------------+\n",
      "\n"
     ]
    },
    {
     "data": {
      "text/plain": [
       "insititutionMAGyear = [normalizedName: string, DocType: string ... 10 more fields]\n"
      ]
     },
     "metadata": {},
     "output_type": "display_data",
     "source": "user"
    },
    {
     "data": {
      "text/plain": [
       "[normalizedName: string, DocType: string ... 10 more fields]"
      ]
     },
     "execution_count": 13,
     "metadata": {},
     "output_type": "execute_result"
    }
   ],
   "source": [
    "val insititutionMAGyear = magPPA4.groupBy(\"normalizedName\", \"DocType\", \"Year\").agg(//concat_ws(\";\", collect_list(\"MAGid2\")) as \"MAGids\",\n",
    "                                                    first(\"displayName\") as \"displayName\",\n",
    "                                                    first(\"wiki\") as \"wiki\",\n",
    "                                                    //first(\"paperTotal\") as \"paperTotalMAG\", \n",
    "                                                    //first(\"citationTotal\") as \"citationTotalMAG\", \n",
    "                                                    countDistinct(\"MAGid\") as \"paperTotal\", \n",
    "                                                    sum(\"CitationCount\") as \"citationTotal\",\n",
    "                                                    sum(\"EstimatedCitation\") as \"estimatedCitationTotal\",\n",
    "                                                    first(\"Iso3166Code\") as \"Iso3166Code\",\n",
    "                                                    first(\"Latitude\") as \"Latitude\",\n",
    "                                                    first(\"Longitude\") as \"Longitude\",\n",
    "                                                    first(\"GRIDid\") as \"GRIDid\")\n",
    "insititutionMAGyear.filter($\"normalizedName\" === \"indiana university\" && $\"Year\" === 2017).show"
   ]
  },
  {
   "cell_type": "code",
   "execution_count": 7,
   "metadata": {},
   "outputs": [
    {
     "name": "stdout",
     "output_type": "stream",
     "text": [
      "+------+--------------------+--------------------+------------+------------+\n",
      "| MAGid|           AuthorIds|      AffiliationIds|Iso3166Codes|countryCount|\n",
      "+------+--------------------+--------------------+------------+------------+\n",
      "|  9458|250125303;5233917...|130238516;2802288...| US;US;US;US|           1|\n",
      "|  9715|2346949400;198037...|            36258959|          US|           1|\n",
      "| 29841|          2123350797|            99542240|          PL|           1|\n",
      "| 54536|223407678;3245056...|                    |            |           0|\n",
      "| 54660|          2119106503|                    |            |           0|\n",
      "| 74185|          2164071203|                    |            |           0|\n",
      "| 75167|2938532104;211541...|           204291657|          JP|           1|\n",
      "|117760|2117199664;261418...|                    |            |           0|\n",
      "|161554|2678320890;268223...|                    |            |           0|\n",
      "|247114|          2998319074|                    |            |           0|\n",
      "|326638|1946600904;194660...|864159182;3020059...| PL;PL;PL;PL|           1|\n",
      "|447037|1830087334;220282...|                    |            |           0|\n",
      "|454203|2008900193;212777...|   99712911;99712911|       ZA;ZA|           1|\n",
      "|454712|          2661556058|            19820366|          US|           1|\n",
      "|464365|          1918790659|                    |            |           0|\n",
      "|523050|661022250;1436609...|                    |            |           0|\n",
      "|532248|2103442020;218634...|                    |            |           0|\n",
      "|554893|2552511276;259921...|                    |            |           0|\n",
      "|578457|2620147592;263963...|            38877650|          CN|           1|\n",
      "|584708|2045608186;258244...| 185261750;185261750|       CA;CA|           1|\n",
      "+------+--------------------+--------------------+------------+------------+\n",
      "only showing top 20 rows\n",
      "\n"
     ]
    },
    {
     "data": {
      "text/plain": [
       "paperIntCollab = [MAGid: bigint, AuthorIds: string ... 3 more fields]\n"
      ]
     },
     "metadata": {},
     "output_type": "display_data",
     "source": "user"
    },
    {
     "data": {
      "text/plain": [
       "[MAGid: bigint, AuthorIds: string ... 3 more fields]"
      ]
     },
     "execution_count": 7,
     "metadata": {},
     "output_type": "execute_result"
    }
   ],
   "source": [
    "val paperIntCollab = magPPA4.groupBy(\"MAGid\").agg(concat_ws(\";\", collect_list(\"AuthorId\")) as \"AuthorIds\",\n",
    "                                                  concat_ws(\";\", collect_list(\"AffiliationId\")) as \"AffiliationIds\",\n",
    "                                                    concat_ws(\";\", collect_list(\"Iso3166Code\")) as \"Iso3166Codes\",\n",
    "                                                    countDistinct(\"Iso3166Code\") as \"countryCount\")\n",
    "paperIntCollab.show"
   ]
  },
  {
   "cell_type": "code",
   "execution_count": 8,
   "metadata": {},
   "outputs": [
    {
     "name": "stdout",
     "output_type": "stream",
     "text": [
      "+-----+--------------------+----------+--------------------+---------+----+-------------------+---------+------------------+--------------------+-------------+-----------------+--------+------+----------+-------------+--------------------+-----------------+--------------------+--------------+--------------------+--------------------+-------------+--------------------+----------+----------------+-------------+-----------+--------+----------+------------+-----------------+\n",
      "|MAGid|                 Doi|   DocType|          PaperTitle|BookTitle|Year|               Date|JournalId|ConferenceSeriesId|ConferenceInstanceId|CitationCount|EstimatedCitation|FamilyId|MAGid2|  AuthorId|AffiliationId|AuthorSequenceNumber|   OriginalAuthor| OriginalAffiliation|AffiliationId2|      normalizedName|         displayName|       GRIDid|                wiki|paperTotal|paperFamilyTotal|citationTotal|Iso3166Code|Latitude| Longitude|countryCount|internationalFlag|\n",
      "+-----+--------------------+----------+--------------------+---------+----+-------------------+---------+------------------+--------------------+-------------+-----------------+--------+------+----------+-------------+--------------------+-----------------+--------------------+--------------+--------------------+--------------------+-------------+--------------------+----------+----------------+-------------+-----------+--------+----------+------------+-----------------+\n",
      "| 9458|10.1023/A:1015830...|   Journal|the pharmacokinet...|     null|1991|1991-12-01 00:00:00|103865650|              null|                null|            9|                9|    null|  9458| 250125303|         null|                   2|Yusuf J Abul-Hajj| Medicinal Chemistry|          null|                null|                null|         null|                null|      null|            null|         null|       null|    null|      null|           1|            false|\n",
      "| 9458|10.1023/A:1015830...|   Journal|the pharmacokinet...|     null|1991|1991-12-01 00:00:00|103865650|              null|                null|            9|                9|    null|  9458| 523391756|    130238516|                   3|    Walid M. Awni|College of Pharma...|     130238516|university of min...|University of Min...|grid.17635.36|http://en.wikiped...|    252775|          248029|      8584404|         US|44.97528| -93.23417|           1|            false|\n",
      "| 9458|10.1023/A:1015830...|   Journal|the pharmacokinet...|     null|1991|1991-12-01 00:00:00|103865650|              null|                null|            9|                9|    null|  9458| 523391756|   2802288015|                   3|    Walid M. Awni|The Drug Evaluati...|    2802288015|hennepin county m...|Hennepin County M...|grid.414021.2|https://en.wikipe...|      4419|            4399|       162910|         US| 44.9725| -93.26194|           1|            false|\n",
      "| 9458|10.1023/A:1015830...|   Journal|the pharmacokinet...|     null|1991|1991-12-01 00:00:00|103865650|              null|                null|            9|                9|    null|  9458|2222404504|    130238516|                   1|John V. St. Peter|College of Pharma...|     130238516|university of min...|University of Min...|grid.17635.36|http://en.wikiped...|    252775|          248029|      8584404|         US|44.97528| -93.23417|           1|            false|\n",
      "| 9458|10.1023/A:1015830...|   Journal|the pharmacokinet...|     null|1991|1991-12-01 00:00:00|103865650|              null|                null|            9|                9|    null|  9458|2222404504|   2802288015|                   1|John V. St. Peter|The Drug Evaluati...|    2802288015|hennepin county m...|Hennepin County M...|grid.414021.2|https://en.wikipe...|      4419|            4399|       162910|         US| 44.9725| -93.26194|           1|            false|\n",
      "| 9715|10.1097/TA.0B013E...|   Journal|venous thromboemb...|     null|2012|2012-05-01 00:00:00|  2312674|              null|                null|           10|               10|    null|  9715|1980373230|         null|                   4|    Dale Fortlage|                null|          null|                null|                null|         null|                null|      null|            null|         null|       null|    null|      null|           1|            false|\n",
      "| 9715|10.1097/TA.0B013E...|   Journal|venous thromboemb...|     null|2012|2012-05-01 00:00:00|  2312674|              null|                null|           10|               10|    null|  9715|2107252006|         null|                   6|     Raul Coimbra|                null|          null|                null|                null|         null|                null|      null|            null|         null|       null|    null|      null|           1|            false|\n",
      "| 9715|10.1097/TA.0B013E...|   Journal|venous thromboemb...|     null|2012|2012-05-01 00:00:00|  2312674|              null|                null|           10|               10|    null|  9715|2306237718|         null|                   3|Galinos Barmparas|                null|          null|                null|                null|         null|                null|      null|            null|         null|       null|    null|      null|           1|            false|\n",
      "| 9715|10.1097/TA.0B013E...|   Journal|venous thromboemb...|     null|2012|2012-05-01 00:00:00|  2312674|              null|                null|           10|               10|    null|  9715|2346949400|     36258959|                   1|    Dennis Y. Kim|Division of Traum...|      36258959|university of cal...|University of Cal...|grid.266100.3|http://en.wikiped...|    193955|          189349|      8869240|         US|  32.881|  -117.238|           1|            false|\n",
      "| 9715|10.1097/TA.0B013E...|   Journal|venous thromboemb...|     null|2012|2012-05-01 00:00:00|  2312674|              null|                null|           10|               10|    null|  9715|2584039216|         null|                   2| Leslie Kobayashi|                null|          null|                null|                null|         null|                null|      null|            null|         null|       null|    null|      null|           1|            false|\n",
      "| 9715|10.1097/TA.0B013E...|   Journal|venous thromboemb...|     null|2012|2012-05-01 00:00:00|  2312674|              null|                null|           10|               10|    null|  9715|2796472094|         null|                   5|      Terry Curry|                null|          null|                null|                null|         null|                null|      null|            null|         null|       null|    null|      null|           1|            false|\n",
      "|29841|10.1007/978-3-642...|Conference|automatic detecti...|      IIS|2013|2013-06-17 00:00:00|     null|        1140961231|            38183348|            0|                0|    null| 29841|2123350797|     99542240|                   1|Łukasz Kobyliński|Polish Academy of...|      99542240|polish academy of...|Polish Academy of...|grid.413454.3|http://en.wikiped...|     91383|           89519|      1299389|         PL|52.22143|21.0143452|           1|            false|\n",
      "|54536|                null|   Journal|crystal structure...|     null|2009|2009-01-01 00:00:00| 51842380|              null|                null|            3|                3|    null| 54536| 223407678|         null|                   4|           Ze-Bao|                null|          null|                null|                null|         null|                null|      null|            null|         null|       null|    null|      null|           0|            false|\n",
      "|54536|                null|   Journal|crystal structure...|     null|2009|2009-01-01 00:00:00| 51842380|              null|                null|            3|                3|    null| 54536| 324505631|         null|                   6|        Shan-Shan|                null|          null|                null|                null|         null|                null|      null|            null|         null|       null|    null|      null|           0|            false|\n",
      "|54536|                null|   Journal|crystal structure...|     null|2009|2009-01-01 00:00:00| 51842380|              null|                null|            3|                3|    null| 54536|1496414269|         null|                   8|           Hou-Li|                null|          null|                null|                null|         null|                null|      null|            null|         null|       null|    null|      null|           0|            false|\n",
      "|54536|                null|   Journal|crystal structure...|     null|2009|2009-01-01 00:00:00| 51842380|              null|                null|            3|                3|    null| 54536|2293409490|         null|                   2|         Yun-Peng|                null|          null|                null|                null|         null|                null|      null|            null|         null|       null|    null|      null|           0|            false|\n",
      "|54536|                null|   Journal|crystal structure...|     null|2009|2009-01-01 00:00:00| 51842380|              null|                null|            3|                3|    null| 54536|2402144557|         null|                  14|         Ting-Guo|                null|          null|                null|                null|         null|                null|      null|            null|         null|       null|    null|      null|           0|            false|\n",
      "|54536|                null|   Journal|crystal structure...|     null|2009|2009-01-01 00:00:00| 51842380|              null|                null|            3|                3|    null| 54536|2497886597|         null|                  13|             Kang|                null|          null|                null|                null|         null|                null|      null|            null|         null|       null|    null|      null|           0|            false|\n",
      "|54536|                null|   Journal|crystal structure...|     null|2009|2009-01-01 00:00:00| 51842380|              null|                null|            3|                3|    null| 54536|2526051463|         null|                   1|             Diao|-Penga, d ZHENG Z...|          null|                null|                null|         null|                null|      null|            null|         null|       null|    null|      null|           0|            false|\n",
      "|54536|                null|   Journal|crystal structure...|     null|2009|2009-01-01 00:00:00| 51842380|              null|                null|            3|                3|    null| 54536|2568666144|         null|                   5|            Huang|                null|          null|                null|                null|         null|                null|      null|            null|         null|       null|    null|      null|           0|            false|\n",
      "+-----+--------------------+----------+--------------------+---------+----+-------------------+---------+------------------+--------------------+-------------+-----------------+--------+------+----------+-------------+--------------------+-----------------+--------------------+--------------+--------------------+--------------------+-------------+--------------------+----------+----------------+-------------+-----------+--------+----------+------------+-----------------+\n",
      "only showing top 20 rows\n",
      "\n"
     ]
    },
    {
     "data": {
      "text/plain": [
       "magPPA5 = [MAGid: bigint, Doi: string ... 29 more fields]\n",
       "magPPA6 = [MAGid: bigint, Doi: string ... 30 more fields]\n"
      ]
     },
     "metadata": {},
     "output_type": "display_data",
     "source": "user"
    },
    {
     "data": {
      "text/plain": [
       "[MAGid: bigint, Doi: string ... 30 more fields]"
      ]
     },
     "execution_count": 8,
     "metadata": {},
     "output_type": "execute_result"
    }
   ],
   "source": [
    "val magPPA5 = magPPA4.join(paperIntCollab.select(\"MAGid\",\"countryCount\"), Seq(\"MAGid\"), \"left\")\n",
    "val magPPA6 = magPPA5.withColumn(\"internationalFlag\",$\"countryCount\">1)\n",
    "magPPA6.show"
   ]
  },
  {
   "cell_type": "code",
   "execution_count": 75,
   "metadata": {},
   "outputs": [
    {
     "name": "stdout",
     "output_type": "stream",
     "text": [
      "+-------+---------+---------+---------+----------+---------+---------+---------+------------------+--------------------+-------------+-----------------+--------+---------+---------+-------------+--------------------+--------------+-------------------+--------------+--------------+-----------+---------+---------+----------+----------------+-------------+-----------+---------+---------+------------+\n",
      "|summary|    MAGid|      Doi|  DocType|PaperTitle|BookTitle|     Year|JournalId|ConferenceSeriesId|ConferenceInstanceId|CitationCount|EstimatedCitation|FamilyId|   MAGid2| AuthorId|AffiliationId|AuthorSequenceNumber|OriginalAuthor|OriginalAffiliation|AffiliationId2|normalizedName|displayName|   GRIDid|     wiki|paperTotal|paperFamilyTotal|citationTotal|Iso3166Code| Latitude|Longitude|countryCount|\n",
      "+-------+---------+---------+---------+----------+---------+---------+---------+------------------+--------------------+-------------+-----------------+--------+---------+---------+-------------+--------------------+--------------+-------------------+--------------+--------------+-----------+---------+---------+----------+----------------+-------------+-----------+---------+---------+------------+\n",
      "|  count|228988583|191624300|228988583| 228988583|  9278599|228988583|212656230|          13233459|             4753483|    228988567|        228988567| 3231339|228988583|228988583|    118873273|           228988583|     228988583|          146845869|     118873273|     118873273|  118873273|113115307|118564235| 118873273|       118873273|    118873273|  117907521|118552675|118552675|   228988583|\n",
      "+-------+---------+---------+---------+----------+---------+---------+---------+------------------+--------------------+-------------+-----------------+--------+---------+---------+-------------+--------------------+--------------+-------------------+--------------+--------------+-----------+---------+---------+----------+----------------+-------------+-----------+---------+---------+------------+\n",
      "\n"
     ]
    }
   ],
   "source": [
    "magPPA6.describe().filter($\"summary\" === \"count\").show"
   ]
  },
  {
   "cell_type": "code",
   "execution_count": 74,
   "metadata": {},
   "outputs": [
    {
     "name": "stdout",
     "output_type": "stream",
     "text": [
      "+-------+-------------+------+-----------+--------------+------+----------+-------------+----------------------+-----------+--------+---------+------+-------------+----------------+-------------------------+\n",
      "|summary|AffiliationId|  Year|displayName|normalizedName|  wiki|paperTotal|citationTotal|estimatedCitationTotal|Iso3166Code|Latitude|Longitude|GRIDid|paperTotalInt|citationTotalInt|estimatedCitationTotalInt|\n",
      "+-------+-------------+------+-----------+--------------+------+----------+-------------+----------------------+-----------+--------+---------+------+-------------+----------------+-------------------------+\n",
      "|  count|       402926|402955|     402926|        402926|398967|    402955|       402955|                402955|     388898|  390490|   390490|309041|       402955|          262805|                   262805|\n",
      "+-------+-------------+------+-----------+--------------+------+----------+-------------+----------------------+-----------+--------+---------+------+-------------+----------------+-------------------------+\n",
      "\n"
     ]
    },
    {
     "data": {
      "text/plain": [
       "insititutionMAGyear = [AffiliationId: bigint, Year: string ... 13 more fields]\n"
      ]
     },
     "metadata": {},
     "output_type": "display_data",
     "source": "user"
    },
    {
     "data": {
      "text/plain": [
       "[AffiliationId: bigint, Year: string ... 13 more fields]"
      ]
     },
     "execution_count": 74,
     "metadata": {},
     "output_type": "execute_result"
    }
   ],
   "source": [
    "val insititutionMAGyear = magPPA6.groupBy(\"AffiliationId\", \"Year\").agg(//concat_ws(\";\", collect_list(\"MAGid2\")) as \"MAGids\",\n",
    "                                                    first(\"displayName\") as \"displayName\",\n",
    "                                                    first(\"normalizedName\") as \"normalizedName\",\n",
    "                                                    first(\"wiki\") as \"wiki\",\n",
    "                                                    //first(\"paperTotal\") as \"paperTotalMAG\", \n",
    "                                                    //first(\"citationTotal\") as \"citationTotalMAG\", \n",
    "                                                    countDistinct(\"MAGid\") as \"paperTotal\", \n",
    "                                                    sum(\"CitationCount\") as \"citationTotal\",\n",
    "                                                    sum(\"EstimatedCitation\") as \"estimatedCitationTotal\",\n",
    "                                                    first(\"Iso3166Code\") as \"Iso3166Code\",\n",
    "                                                    first(\"Latitude\") as \"Latitude\",\n",
    "                                                    first(\"Longitude\") as \"Longitude\",\n",
    "                                                    first(\"GRIDid\") as \"GRIDid\",\n",
    "                                                    countDistinct(when($\"internationalFlag\", $\"MAGid\")) as \"paperTotalInt\",\n",
    "                                                    sum(when($\"internationalFlag\", $\"CitationCount\")) as \"citationTotalInt\",\n",
    "                                                    sum(when($\"internationalFlag\", $\"EstimatedCitation\")) as \"estimatedCitationTotalInt\")\n",
    "insititutionMAGyear.describe().filter($\"summary\" === \"count\").show"
   ]
  },
  {
   "cell_type": "code",
   "execution_count": 76,
   "metadata": {},
   "outputs": [
    {
     "name": "stdout",
     "output_type": "stream",
     "text": [
      "+-------------+----+--------------------+--------------------+--------------------+----------+-------------+----------------------+-----------+----------+----------+-------------+-------------+----------------+-------------------------+\n",
      "|AffiliationId|Year|         displayName|      normalizedName|                wiki|paperTotal|citationTotal|estimatedCitationTotal|Iso3166Code|  Latitude| Longitude|       GRIDid|paperTotalInt|citationTotalInt|estimatedCitationTotalInt|\n",
      "+-------------+----+--------------------+--------------------+--------------------+----------+-------------+----------------------+-----------+----------+----------+-------------+-------------+----------------+-------------------------+\n",
      "|       280994|1996|King George's Med...|king george s med...|http://en.wikiped...|         2|         47.0|                    71|         IN|26.8677158| 80.916626|grid.411275.4|            0|            null|                     null|\n",
      "|       376102|1991|Agricultural Rese...|agricultural rese...|http://en.wikiped...|       105|       9148.0|                 12931|         IL|  31.99028|34.8174553|grid.410498.0|           19|          2097.0|                     3139|\n",
      "|       392282|1996|University at Alb...|university at alb...|http://en.wikiped...|       282|      43554.0|                 72350|         US|  42.68619| -73.82388|grid.265850.c|           58|          7041.0|                    13214|\n",
      "|       392282|2014|University at Alb...|university at alb...|http://en.wikiped...|       688|      42292.0|                118496|         US|  42.68619| -73.82388|grid.265850.c|          250|         29942.0|                   101863|\n",
      "|       464993|1992|Barkatullah Unive...|barkatullah unive...|http://en.wikiped...|        12|         58.0|                    58|         IN|23.2048473|77.4523239|grid.411530.2|            0|            null|                     null|\n",
      "|       675453|2009|Vorarlberg Univer...|vorarlberg univer...|http://en.wikiped...|         6|        598.0|                   782|         AT|  48.31556|  14.28528|grid.425061.4|            2|           512.0|                      686|\n",
      "|       822440|2003|Okanagan Universi...|okanagan universi...|http://en.wikiped...|        20|       1121.0|                  1664|         CA|   49.8626| -119.4806|grid.261354.7|            4|           638.0|                      989|\n",
      "|       830141|1999|National Housing ...|national housing ...|http://en.wikiped...|         1|          1.0|                     1|         GB|  51.51273|  -0.07298|         null|            0|            null|                     null|\n",
      "|       899646|2008|Punjab Agricultur...|punjab agricultur...|http://en.wikiped...|       103|       6295.0|                  8450|         IN|30.9030266|  75.80795|grid.412577.2|           17|          2067.0|                     2963|\n",
      "|       967637|2008|   Gannon University|   gannon university|http://en.wikiped...|        27|        292.0|                   376|         US|    42.128|    -80.09|grid.256198.1|            6|            67.0|                       67|\n",
      "|       992397|2017| University of Borås| university of boras|http://en.wikiped...|       137|       2802.0|                  3433|         SE|  57.72472|  12.94056|grid.412442.5|           55|           844.0|                      944|\n",
      "|      1141210|1991|Indian Agricultur...|indian agricultur...|http://en.wikiped...|         6|         46.0|                    46|         IN|28.6336823|  77.17172|grid.463150.5|            1|            28.0|                       28|\n",
      "|      1175298|1998|    Randolph College|    randolph college|http://en.wikiped...|         2|          3.0|                     3|         US|   37.4368|  -79.1718|grid.421342.2|            1|             0.0|                        0|\n",
      "|      1723204|1999|               Expro|               expro|http://en.wikiped...|         6|         30.0|                    30|         GB| 51.456356| -0.974763|grid.481632.a|            2|             8.0|                        8|\n",
      "|      2087004|2002|       IPG Photonics|       ipg photonics|http://en.wikiped...|        19|        991.0|                  1315|         US|  42.08473| -71.88005|         null|           11|           584.0|                      752|\n",
      "|      2132711|1995|Kutztown Universi...|kutztown universi...|http://en.wikiped...|        13|         81.0|                   102|         US|    40.511|   -75.783|grid.258769.7|            1|             2.0|                        2|\n",
      "|      2480620|2007|    Marlboro College|    marlboro college|http://en.wikiped...|         4|          1.0|                     1|         US|  42.83884| -72.73168|grid.447060.1|            1|             1.0|                        1|\n",
      "|      2657118|2013|Vasavi College of...|vasavi college of...|http://en.wikiped...|         9|         46.0|                    46|         IN|17.3800812|78.3824539|         null|            0|            null|                     null|\n",
      "|      2841861|1993|Kenya Medical Res...|kenya medical res...|http://en.wikiped...|        57|       5314.0|                  7470|         KE| -1.313151|  36.80409|grid.33058.3d|           27|          3836.0|                     5481|\n",
      "|      3104849|2016|Southern College ...|southern college ...|http://en.wikiped...|        10|        132.0|                   180|         US|   35.1376|  -90.0205|grid.419410.9|            2|           120.0|                      168|\n",
      "+-------------+----+--------------------+--------------------+--------------------+----------+-------------+----------------------+-----------+----------+----------+-------------+-------------+----------------+-------------------------+\n",
      "only showing top 20 rows\n",
      "\n"
     ]
    }
   ],
   "source": [
    "insititutionMAGyear.show"
   ]
  },
  {
   "cell_type": "code",
   "execution_count": 78,
   "metadata": {},
   "outputs": [],
   "source": [
    "insititutionMAGyear//.select(\"wosid\",\"headings\",\"subheadings\",\"WC\",\"SC\",\"disciplines\",\"subdisciplines\",\"fractions\")\n",
    "    .coalesce(1).write.mode(SaveMode.Overwrite)\n",
    "    .format(\"com.databricks.spark.csv\")\n",
    "    .option(\"header\", \"true\")\n",
    "    .option(\"quote\", \"\\\"\")\n",
    "    .save(\"wasbs://mag-2020-09-01@iunimag.blob.core.windows.net/MAGinsititutionMAGyear.csv\")\n",
    "    //.save(\"/dataRCSC/Fellow5-flight-collaboration/MAGinsititutionMAGyear.csv\")"
   ]
  },
  {
   "cell_type": "code",
   "execution_count": 54,
   "metadata": {},
   "outputs": [
    {
     "name": "stdout",
     "output_type": "stream",
     "text": [
      "+-------+-------------+-----------+--------------+----------+-------------+----------------------+\n",
      "|summary|AffiliationId|displayName|normalizedName|paperTotal|citationTotal|estimatedCitationTotal|\n",
      "+-------+-------------+-----------+--------------+----------+-------------+----------------------+\n",
      "|  count|        24992|      24992|         24992|     24993|        24993|                 24993|\n",
      "+-------+-------------+-----------+--------------+----------+-------------+----------------------+\n",
      "\n"
     ]
    },
    {
     "data": {
      "text/plain": [
       "insititutionMAG = [AffiliationId: bigint, displayName: string ... 4 more fields]\n"
      ]
     },
     "metadata": {},
     "output_type": "display_data",
     "source": "user"
    },
    {
     "data": {
      "text/plain": [
       "lastException: Throwable = null\n"
      ]
     },
     "metadata": {},
     "output_type": "display_data",
     "source": "user"
    },
    {
     "data": {
      "text/plain": [
       "[AffiliationId: bigint, displayName: string ... 4 more fields]"
      ]
     },
     "execution_count": 54,
     "metadata": {},
     "output_type": "execute_result"
    }
   ],
   "source": [
    "val insititutionMAG = insititutionMAGyear.groupBy(\"AffiliationId\").agg(//concat_ws(\";\", collect_list(\"MAGid2\")) as \"MAGids\",\n",
    "                                                    first(\"displayName\") as \"displayName\",\n",
    "                                                    first(\"normalizedName\") as \"normalizedName\",\n",
    "                                                    //first(\"paperTotalMAG\") as \"paperTotalMAG\", \n",
    "                                                    //first(\"citationTotalMAG\") as \"citationTotalMAG\", \n",
    "                                                    sum(\"paperTotal\") as \"paperTotal\", \n",
    "                                                    sum(\"citationTotal\") as \"citationTotal\",\n",
    "                                                    sum(\"estimatedCitationTotal\") as \"estimatedCitationTotal\")\n",
    "insititutionMAG.describe().filter($\"summary\" === \"count\").show"
   ]
  },
  {
   "cell_type": "code",
   "execution_count": null,
   "metadata": {},
   "outputs": [],
   "source": []
  }
 ],
 "metadata": {
  "kernelspec": {
   "display_name": "Apache Toree - Scala",
   "language": "scala",
   "name": "apache_toree_scala"
  },
  "language_info": {
   "codemirror_mode": "text/x-scala",
   "file_extension": ".scala",
   "mimetype": "text/x-scala",
   "name": "scala",
   "pygments_lexer": "scala",
   "version": "2.11.12"
  }
 },
 "nbformat": 4,
 "nbformat_minor": 2
}
